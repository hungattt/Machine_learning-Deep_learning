{
  "nbformat": 4,
  "nbformat_minor": 0,
  "metadata": {
    "colab": {
      "name": "SGD - Grab.ipynb",
      "provenance": [],
      "machine_shape": "hm"
    },
    "kernelspec": {
      "name": "python3",
      "display_name": "Python 3"
    },
    "accelerator": "GPU"
  },
  "cells": [
    {
      "cell_type": "markdown",
      "metadata": {
        "id": "rifkgwTy8hof"
      },
      "source": [
        "Stochastic Gradient Descent"
      ]
    },
    {
      "cell_type": "code",
      "metadata": {
        "id": "nQ14AeGE9V3P"
      },
      "source": [
        "import numpy as np"
      ],
      "execution_count": 1,
      "outputs": []
    },
    {
      "cell_type": "code",
      "metadata": {
        "id": "mwvFRewI9B7i"
      },
      "source": [
        "X = np.array([\n",
        "  [2],\n",
        "  [7],\n",
        "  [9],\n",
        "  [3],\n",
        "  [10],\n",
        "  [6],\n",
        "  [1],\n",
        "  [8]            \n",
        "]\n",
        ")"
      ],
      "execution_count": 2,
      "outputs": []
    },
    {
      "cell_type": "code",
      "metadata": {
        "id": "VB8DroCs9CTY"
      },
      "source": [
        "y = np.array(\n",
        "    [\n",
        "     [13],\n",
        "     [35],\n",
        "     [41],\n",
        "     [19],\n",
        "     [45],\n",
        "     [28],\n",
        "     [10],\n",
        "     [55],\n",
        "\n",
        "    ]\n",
        ")"
      ],
      "execution_count": 3,
      "outputs": []
    },
    {
      "cell_type": "code",
      "metadata": {
        "id": "w5K7wXFX9Zan"
      },
      "source": [
        "ones = np.ones_like(X)"
      ],
      "execution_count": 4,
      "outputs": []
    },
    {
      "cell_type": "code",
      "metadata": {
        "id": "XrXutYY09bvR"
      },
      "source": [
        "X = np.concatenate((X, ones), axis=1)"
      ],
      "execution_count": 5,
      "outputs": []
    },
    {
      "cell_type": "code",
      "metadata": {
        "id": "LAC-Q8y_9dXc",
        "colab": {
          "base_uri": "https://localhost:8080/"
        },
        "outputId": "92fdf151-8c1a-45d5-be41-7d82d75b84f7"
      },
      "source": [
        "X"
      ],
      "execution_count": 6,
      "outputs": [
        {
          "output_type": "execute_result",
          "data": {
            "text/plain": [
              "array([[ 2,  1],\n",
              "       [ 7,  1],\n",
              "       [ 9,  1],\n",
              "       [ 3,  1],\n",
              "       [10,  1],\n",
              "       [ 6,  1],\n",
              "       [ 1,  1],\n",
              "       [ 8,  1]])"
            ]
          },
          "metadata": {},
          "execution_count": 6
        }
      ]
    },
    {
      "cell_type": "code",
      "metadata": {
        "id": "P-5e6vhp_2U_",
        "colab": {
          "base_uri": "https://localhost:8080/"
        },
        "outputId": "fca84de4-fe37-4c2a-834e-2ac335a8db36"
      },
      "source": [
        "X[1]"
      ],
      "execution_count": 7,
      "outputs": [
        {
          "output_type": "execute_result",
          "data": {
            "text/plain": [
              "array([7, 1])"
            ]
          },
          "metadata": {},
          "execution_count": 7
        }
      ]
    },
    {
      "cell_type": "code",
      "metadata": {
        "id": "6zYeBTK-93kj"
      },
      "source": [
        "def predict(theta, x):\n",
        "  return x.T.dot(theta)"
      ],
      "execution_count": 8,
      "outputs": []
    },
    {
      "cell_type": "code",
      "metadata": {
        "id": "cRL8ja_RCXvs"
      },
      "source": [
        "def cost(X, y, theta, m):\n",
        "  return 1/(2 *m)* np.sum((X.dot(theta) - y)**2)"
      ],
      "execution_count": 9,
      "outputs": []
    },
    {
      "cell_type": "code",
      "metadata": {
        "id": "ODqyGxn5ElNj"
      },
      "source": [
        "from sklearn.utils import shuffle"
      ],
      "execution_count": 10,
      "outputs": []
    },
    {
      "cell_type": "code",
      "metadata": {
        "id": "pQjlCpoFw32m"
      },
      "source": [
        "def SGD(X, y, theta, learning_rate, epochs):\n",
        "  \n",
        "  print(X, y)\n",
        "  # Step 2: Update theta\n",
        "  m = len(X)\n",
        "  for i in range(epochs):\n",
        "    # Step 1: Shuffle dataset\n",
        "    X, y = shuffle(X, y)\n",
        "    for k in range(m):\n",
        "      error = predict(theta, X[k]) - y[k]\n",
        "      for j in range(len(theta)):\n",
        "        theta[j] = theta[j] - learning_rate * error * X[k][j]\n",
        "    if (i + 1) % 100 == 0:\n",
        "      print(\"Loss is {}\".format(cost(X, y, theta, m)))"
      ],
      "execution_count": 11,
      "outputs": []
    },
    {
      "cell_type": "code",
      "metadata": {
        "id": "PgXV-SCH-vc2"
      },
      "source": [
        "theta = np.random.normal(size=2).reshape((2, 1))"
      ],
      "execution_count": 12,
      "outputs": []
    },
    {
      "cell_type": "code",
      "metadata": {
        "id": "BbqTPVVj-zeH"
      },
      "source": [
        "epochs = 3000\n",
        "learning_rate = 0.001"
      ],
      "execution_count": 13,
      "outputs": []
    },
    {
      "cell_type": "code",
      "metadata": {
        "id": "iKTBd_K7-mx4",
        "colab": {
          "base_uri": "https://localhost:8080/"
        },
        "outputId": "4259082e-c74d-4367-d061-2e76f526de41"
      },
      "source": [
        "SGD(X, y, theta, learning_rate, epochs)"
      ],
      "execution_count": 14,
      "outputs": [
        {
          "output_type": "stream",
          "name": "stdout",
          "text": [
            "[[ 2  1]\n",
            " [ 7  1]\n",
            " [ 9  1]\n",
            " [ 3  1]\n",
            " [10  1]\n",
            " [ 6  1]\n",
            " [ 1  1]\n",
            " [ 8  1]] [[13]\n",
            " [35]\n",
            " [41]\n",
            " [19]\n",
            " [45]\n",
            " [28]\n",
            " [10]\n",
            " [55]]\n",
            "Loss is 18.116057305967317\n",
            "Loss is 17.540266448247035\n",
            "Loss is 17.15927313168504\n",
            "Loss is 16.872864207469956\n",
            "Loss is 16.681364790288683\n",
            "Loss is 16.574082426812673\n",
            "Loss is 16.472152914015638\n",
            "Loss is 16.402638233125263\n",
            "Loss is 16.358558276167898\n",
            "Loss is 16.329286942585803\n",
            "Loss is 16.318946091665083\n",
            "Loss is 16.295781168041447\n",
            "Loss is 16.286172946462393\n",
            "Loss is 16.313279998875263\n",
            "Loss is 16.276437642562183\n",
            "Loss is 16.27030843545096\n",
            "Loss is 16.267772263789315\n",
            "Loss is 16.29114134959235\n",
            "Loss is 16.267960886854322\n",
            "Loss is 16.26630340745385\n",
            "Loss is 16.27461962176341\n",
            "Loss is 16.26632024349916\n",
            "Loss is 16.285062678994066\n",
            "Loss is 16.26414629740062\n",
            "Loss is 16.277453011187358\n",
            "Loss is 16.264335912150063\n",
            "Loss is 16.26366352482577\n",
            "Loss is 16.26659119228421\n",
            "Loss is 16.29756243688057\n",
            "Loss is 16.273211260726452\n"
          ]
        }
      ]
    },
    {
      "cell_type": "code",
      "metadata": {
        "id": "YETSCrme_7eJ",
        "colab": {
          "base_uri": "https://localhost:8080/"
        },
        "outputId": "f8d695f8-69cd-4cd1-c593-88de26b964c8"
      },
      "source": [
        "predict(theta, np.array([40, 1]))"
      ],
      "execution_count": 15,
      "outputs": [
        {
          "output_type": "execute_result",
          "data": {
            "text/plain": [
              "array([182.52305153])"
            ]
          },
          "metadata": {},
          "execution_count": 15
        }
      ]
    },
    {
      "cell_type": "code",
      "metadata": {
        "id": "YghOnwjwDrRL",
        "colab": {
          "base_uri": "https://localhost:8080/"
        },
        "outputId": "cbffb351-8832-48df-b5c0-208748a4e9e8"
      },
      "source": [
        "X[0].shape"
      ],
      "execution_count": null,
      "outputs": [
        {
          "output_type": "execute_result",
          "data": {
            "text/plain": [
              "(2,)"
            ]
          },
          "metadata": {
            "tags": []
          },
          "execution_count": 16
        }
      ]
    },
    {
      "cell_type": "code",
      "metadata": {
        "id": "yQOYQCy1EWuF"
      },
      "source": [
        ""
      ],
      "execution_count": null,
      "outputs": []
    }
  ]
}