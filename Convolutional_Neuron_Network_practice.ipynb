{
  "nbformat": 4,
  "nbformat_minor": 0,
  "metadata": {
    "colab": {
      "provenance": []
    },
    "kernelspec": {
      "name": "python3",
      "display_name": "Python 3"
    },
    "language_info": {
      "name": "python"
    },
    "accelerator": "GPU"
  },
  "cells": [
    {
      "cell_type": "markdown",
      "metadata": {
        "id": "vtnm2K_EWJmV"
      },
      "source": [
        "### 1/ Tạo 1 dataset gồm 10 điểm dữ liệu sinh từ hàm y=x^2+noise. Dùng sklearn fit hàm đa thức bậc 9 với dữ liệu trên. Thử thêm 100 điểm dữ liệu nữa xem hàm đa thức bậc 9 sẽ như thế nào?"
      ]
    },
    {
      "cell_type": "code",
      "metadata": {
        "colab": {
          "base_uri": "https://localhost:8080/"
        },
        "id": "QUT8gjiWWFzd",
        "outputId": "21115cca-c237-4755-915f-0c571cd525fa"
      },
      "source": [
        "from numpy.random import seed\n",
        "from numpy.random import randint\n",
        "import matplotlib.pyplot as plt\n",
        "from sklearn.preprocessing import PolynomialFeatures\n",
        "from sklearn.pipeline import make_pipeline\n",
        "from sklearn.linear_model import LinearRegression\n",
        "\n",
        "data_X = [randint(1,20) for x in range(1,11)]\n",
        "data_X = np.array(data_X)\n",
        "data_Y = data_X**2 + randint(50)\n",
        "\n",
        "import numpy as np\n",
        "\n",
        "X_seq = np.linspace(X.min(),X.max(),10).reshape(-1, 1)\n",
        "X_seq.shape"
      ],
      "execution_count": null,
      "outputs": [
        {
          "output_type": "execute_result",
          "data": {
            "text/plain": [
              "(10, 1)"
            ]
          },
          "metadata": {
            "tags": []
          },
          "execution_count": 282
        }
      ]
    },
    {
      "cell_type": "code",
      "metadata": {
        "colab": {
          "base_uri": "https://localhost:8080/"
        },
        "id": "du8K65CuIa7P",
        "outputId": "7ce3bfad-a871-41e7-eef3-8207abac4fb7"
      },
      "source": [
        "data_X = data_X.reshape(-1, 1)\n",
        "data_Y = data_Y.reshape(-1, 1)\n",
        "\n",
        "degree=9\n",
        "\n",
        "polyreg=make_pipeline(PolynomialFeatures(degree),LinearRegression())\n",
        "polyreg.fit(data_X, data_Y)"
      ],
      "execution_count": null,
      "outputs": [
        {
          "output_type": "execute_result",
          "data": {
            "text/plain": [
              "Pipeline(memory=None,\n",
              "         steps=[('polynomialfeatures',\n",
              "                 PolynomialFeatures(degree=9, include_bias=True,\n",
              "                                    interaction_only=False, order='C')),\n",
              "                ('linearregression',\n",
              "                 LinearRegression(copy_X=True, fit_intercept=True, n_jobs=None,\n",
              "                                  normalize=False))],\n",
              "         verbose=False)"
            ]
          },
          "metadata": {
            "tags": []
          },
          "execution_count": 283
        }
      ]
    },
    {
      "cell_type": "code",
      "metadata": {
        "colab": {
          "base_uri": "https://localhost:8080/",
          "height": 281
        },
        "id": "Mwo2_8bkJe9Z",
        "outputId": "bd2f77ae-7e38-43cf-9072-c4dbc39a0edc"
      },
      "source": [
        "# plt.figure()\n",
        "# plt.scatter(data_X,data_Y)\n",
        "# plt.plot(data_X,polyreg.predict(data_X),color=\"black\")\n",
        "# plt.title(\"Polynomial regression with degree \"+str(degree))\n",
        "# plt.show()\n",
        "\n",
        "plt.figure()\n",
        "plt.plot(X_seq,polyreg.predict(X_seq),color=\"blue\")\n",
        "plt.title(\"Polyfit degree \"+str(degree))\n",
        "plt.scatter(X,y)\n",
        "plt.show()"
      ],
      "execution_count": null,
      "outputs": [
        {
          "output_type": "display_data",
          "data": {
            "image/png": "[encoded data removed]",
            "text/plain": [
              "<Figure size 432x288 with 1 Axes>"
            ]
          },
          "metadata": {
            "tags": [],
            "needs_background": "light"
          }
        }
      ]
    },
    {
      "cell_type": "code",
      "metadata": {
        "colab": {
          "base_uri": "https://localhost:8080/",
          "height": 451
        },
        "id": "_83HL3JdWGvD",
        "outputId": "3362e46a-7253-4aea-f692-b1211dce5dcd"
      },
      "source": [
        "# Cach lam thu cong\n",
        "# num1 = np.ones((10, 1)).reshape(-1,1)\n",
        "\n",
        "# data_X = data_X.reshape(-1, 1)\n",
        "# data_X = np.stack([num1, data_X, data_X**2, data_X**3, data_X**4, data_X**5, \\\n",
        "#                    data_X**6, data_X**7, data_X**8, data_X**9], axis=-1)\n",
        "\n",
        "# data_X = data_X.reshape(data_X.shape[0], data_X.shape[-1])\n",
        "\n",
        "# data_Y = data_Y.reshape(-1,1)\n",
        "\n",
        "# from sklearn.preprocessing import MinMaxScaler\n",
        "# # fit\n",
        "# scaler_X = MinMaxScaler().fit(data_X)\n",
        "# scaler_Y = MinMaxScaler().fit(data_Y)\n",
        "# # transform data\n",
        "# scaled_X = scaler_X.transform(data_X)\n",
        "# scaled_Y = scaler_Y.transform(data_Y)\n",
        "\n",
        "# from sklearn.linear_model import LinearRegression\n",
        "# reg = LinearRegression().fit(scaled_X, scaled_Y)\n",
        "\n",
        "# a = []\n",
        "# b = []\n",
        "# for i in range(1,50,2):\n",
        "#     j = reg.coef_[0][0] * i + reg.coef_[0][1] * i * i + reg.intercept_\n",
        "#     a.append(i)\n",
        "#     b.append(j)\n",
        "\n",
        "# plt.scatter(a, b, c='r')\n",
        "\n",
        "# x = data_X[:, 1].reshape(-1, 1)\n",
        "# y = data_Y[:, 0].reshape(-1, 1)\n",
        "# plt.scatter(x, y, c='b')\n",
        "\n",
        "\n",
        "# plt.xlabel('x')\n",
        "# plt.ylabel('y')\n",
        "# plt.show()\n",
        "\n",
        "# Cach lam import library\n",
        "\n",
        "data_X = [randint(3,15) for x in range(1,101)]\n",
        "data_X = np.array(data_X)\n",
        "data_Y = data_X**2 + randint(100)\n",
        "\n",
        "X_seq = np.linspace(X.min(),X.max(),15).reshape(-1, 1)\n",
        "X_seq.shape\n",
        "\n",
        "data_X = data_X.reshape(-1, 1)\n",
        "data_Y = data_Y.reshape(-1, 1)\n",
        "\n",
        "degree=9\n",
        "\n",
        "polyreg=make_pipeline(PolynomialFeatures(degree),LinearRegression())\n",
        "polyreg.fit(data_X, data_Y)\n",
        "\n",
        "plt.figure()\n",
        "plt.scatter(data_X,data_Y)\n",
        "plt.plot(X_seq,polyreg.predict(X_seq),color=\"red\")\n",
        "plt.title(\"Polynomial regression with degree \"+str(degree))\n",
        "plt.show()\n",
        "print(data_X[:10]) ## rat nhieu gia tri bi trung lap"
      ],
      "execution_count": null,
      "outputs": [
        {
          "output_type": "display_data",
          "data": {
            "image/png": "[encoded data removed]",
            "text/plain": [
              "<Figure size 432x288 with 1 Axes>"
            ]
          },
          "metadata": {
            "tags": [],
            "needs_background": "light"
          }
        },
        {
          "output_type": "stream",
          "text": [
            "[[12]\n",
            " [13]\n",
            " [11]\n",
            " [ 5]\n",
            " [ 6]\n",
            " [11]\n",
            " [ 8]\n",
            " [ 5]\n",
            " [ 6]\n",
            " [12]]\n"
          ],
          "name": "stdout"
        }
      ]
    },
    {
      "cell_type": "markdown",
      "metadata": {
        "id": "ckBKXgCXLVsb"
      },
      "source": [
        "### Cau 2: Implement hàm tính convolution, input X, W, stride, padding, output Y. Implement hàm sobel"
      ]
    },
    {
      "cell_type": "markdown",
      "metadata": {
        "id": "YaXMn4wtYWd3"
      },
      "source": [
        "<img src=\"https://cdn.discordapp.com/attachments/506487127467622400/857836293449842708/bai2.jpg\">"
      ]
    },
    {
      "cell_type": "markdown",
      "metadata": {
        "id": "O1x4yjxFLIlP"
      },
      "source": [
        "### Cau 3: Hiểu code mẫu, chỉnh hyper như lr, optimizer, kernel size, số kernel,.... So sánh các kết quả.\n"
      ]
    },
    {
      "cell_type": "code",
      "metadata": {
        "id": "oFXhpONqouR1"
      },
      "source": [
        "# 1. Thêm các thư viện cần thiết\n",
        "import numpy as np\n",
        "import matplotlib.pyplot as plt\n",
        "from keras.models import Sequential\n",
        "from keras.layers import Dense, Dropout, Activation, Flatten\n",
        "from keras.layers import Conv2D, MaxPooling2D\n",
        "from keras.utils import np_utils\n",
        "from keras.datasets import mnist"
      ],
      "execution_count": null,
      "outputs": []
    },
    {
      "cell_type": "code",
      "metadata": {
        "colab": {
          "base_uri": "https://localhost:8080/"
        },
        "id": "BANGOKJqrDGV",
        "outputId": "41bb5332-29c6-459c-8f20-281c6f0b9623"
      },
      "source": [
        "# 2. Load dữ liệu MNIST\n",
        "(X_train, y_train), (X_test, y_test) = mnist.load_data()\n",
        "X_val, y_val = X_train[50000:60000,:], y_train[50000:60000]\n",
        "X_train, y_train = X_train[:50000,:], y_train[:50000]\n",
        "print(X_train.shape)\n",
        "print(X_val.shape)"
      ],
      "execution_count": null,
      "outputs": [
        {
          "output_type": "stream",
          "text": [
            "Downloading data from https://storage.googleapis.com/tensorflow/tf-keras-datasets/mnist.npz\n",
            "11493376/11490434 [==============================] - 0s 0us/step\n",
            "11501568/11490434 [==============================] - 0s 0us/step\n",
            "(50000, 28, 28)\n",
            "(10000, 28, 28)\n"
          ],
          "name": "stdout"
        }
      ]
    },
    {
      "cell_type": "code",
      "metadata": {
        "colab": {
          "base_uri": "https://localhost:8080/"
        },
        "id": "tD42TqbCzNUb",
        "outputId": "034eea87-aa53-47de-af3c-012a31ada5ff"
      },
      "source": [
        "# 3. Reshape lại dữ liệu cho đúng kích thước mà keras yêu cầu\n",
        "X_train = X_train.reshape(X_train.shape[0], 28, 28, 1)\n",
        "X_val = X_val.reshape(X_val.shape[0], 28, 28, 1)\n",
        "X_test = X_test.reshape(X_test.shape[0], 28, 28, 1)\n",
        "\n",
        "X_train = X_train/255.\n",
        "X_test = X_test/255.\n",
        "X_val = X_val/255.\n",
        "print(X_train.shape)"
      ],
      "execution_count": null,
      "outputs": [
        {
          "output_type": "stream",
          "text": [
            "(50000, 28, 28, 1)\n"
          ],
          "name": "stdout"
        }
      ]
    },
    {
      "cell_type": "code",
      "metadata": {
        "colab": {
          "base_uri": "https://localhost:8080/"
        },
        "id": "qPfK7o1xzfSg",
        "outputId": "9451837e-59cf-4d18-a159-cd06eeb8075c"
      },
      "source": [
        "# 4. One hot encoding label (Y)\n",
        "Y_train = np_utils.to_categorical(y_train, 10)\n",
        "Y_val = np_utils.to_categorical(y_val, 10)\n",
        "Y_test = np_utils.to_categorical(y_test, 10)\n",
        "print('Dữ liệu y ban đầu ', y_train[0])\n",
        "print('Dữ liệu y sau one-hot encoding ',Y_train[0])"
      ],
      "execution_count": null,
      "outputs": [
        {
          "output_type": "stream",
          "text": [
            "Dữ liệu y ban đầu  5\n",
            "Dữ liệu y sau one-hot encoding  [0. 0. 0. 0. 0. 1. 0. 0. 0. 0.]\n"
          ],
          "name": "stdout"
        }
      ]
    },
    {
      "cell_type": "code",
      "metadata": {
        "colab": {
          "base_uri": "https://localhost:8080/"
        },
        "id": "pRL-SvBHziSD",
        "outputId": "94231342-bdd7-4f6a-f047-c1a66c231423"
      },
      "source": [
        "# BatchNormalization()\n",
        "# Init Weight ()\n",
        "\n",
        "# 5. Định nghĩa model\n",
        "model = Sequential()\n",
        "\n",
        "# Thêm Convolutional layer với 32 kernel, kích thước kernel 3*3\n",
        "# dùng hàm sigmoid làm activation và chỉ rõ input_shape cho layer đầu tiên\n",
        "model.add(Conv2D(32, (3, 3), padding='same', activation='relu', input_shape=(28,28,1)))\n",
        "\n",
        "# Thêm Convolutional layer\n",
        "model.add(Conv2D(32, (3, 3), activation='relu'))\n",
        "\n",
        "# Thêm Max pooling layer\n",
        "model.add(MaxPooling2D())\n",
        "\n",
        "# Flatten layer chuyển từ tensor sang vector\n",
        "model.add(Flatten())\n",
        "\n",
        "# Thêm Fully Connected layer với 128 nodes và dùng hàm sigmoid\n",
        "model.add(Dense(128, activation='relu'))\n",
        "\n",
        "# Output layer với 10 node và dùng softmax function để chuyển sang xác xuất.\n",
        "model.add(Dense(10, activation='softmax'))\n",
        "\n",
        "model.summary()"
      ],
      "execution_count": null,
      "outputs": [
        {
          "output_type": "stream",
          "text": [
            "Model: \"sequential\"\n",
            "_________________________________________________________________\n",
            "Layer (type)                 Output Shape              Param #   \n",
            "=================================================================\n",
            "conv2d (Conv2D)              (None, 28, 28, 32)        320       \n",
            "_________________________________________________________________\n",
            "conv2d_1 (Conv2D)            (None, 26, 26, 32)        9248      \n",
            "_________________________________________________________________\n",
            "max_pooling2d (MaxPooling2D) (None, 13, 13, 32)        0         \n",
            "_________________________________________________________________\n",
            "flatten (Flatten)            (None, 5408)              0         \n",
            "_________________________________________________________________\n",
            "dense (Dense)                (None, 128)               692352    \n",
            "_________________________________________________________________\n",
            "dense_1 (Dense)              (None, 10)                1290      \n",
            "=================================================================\n",
            "Total params: 703,210\n",
            "Trainable params: 703,210\n",
            "Non-trainable params: 0\n",
            "_________________________________________________________________\n"
          ],
          "name": "stdout"
        }
      ]
    },
    {
      "cell_type": "code",
      "metadata": {
        "id": "xIBzd4q1zj1n"
      },
      "source": [
        "# 6. Compile model, chỉ rõ hàm loss_function nào được sử dụng, phương thức\n",
        "# đùng để tối ưu hàm loss function.\n",
        "model.compile(loss='categorical_crossentropy',\n",
        "              optimizer='adam',\n",
        "              metrics=['accuracy'])"
      ],
      "execution_count": null,
      "outputs": []
    },
    {
      "cell_type": "code",
      "metadata": {
        "colab": {
          "base_uri": "https://localhost:8080/"
        },
        "id": "jrnnN_wszllM",
        "outputId": "df6e2584-e3ea-4650-bd05-945a7112bb14"
      },
      "source": [
        "# 7. Thực hiện train model với data\n",
        "H = model.fit(X_train, Y_train, validation_data=(X_val, Y_val),\n",
        "          batch_size=32, epochs=10, verbose=1)"
      ],
      "execution_count": null,
      "outputs": [
        {
          "output_type": "stream",
          "text": [
            "Epoch 1/10\n",
            "1563/1563 [==============================] - 127s 71ms/step - loss: 0.2819 - accuracy: 0.9138 - val_loss: 0.0565 - val_accuracy: 0.9836\n",
            "Epoch 2/10\n",
            "1563/1563 [==============================] - 111s 71ms/step - loss: 0.0395 - accuracy: 0.9884 - val_loss: 0.0462 - val_accuracy: 0.9865\n",
            "Epoch 3/10\n",
            "1563/1563 [==============================] - 112s 71ms/step - loss: 0.0224 - accuracy: 0.9930 - val_loss: 0.0452 - val_accuracy: 0.9862\n",
            "Epoch 4/10\n",
            "1563/1563 [==============================] - 111s 71ms/step - loss: 0.0148 - accuracy: 0.9950 - val_loss: 0.0529 - val_accuracy: 0.9870\n",
            "Epoch 5/10\n",
            "1563/1563 [==============================] - 111s 71ms/step - loss: 0.0113 - accuracy: 0.9963 - val_loss: 0.0494 - val_accuracy: 0.9893\n",
            "Epoch 6/10\n",
            "1563/1563 [==============================] - 112s 72ms/step - loss: 0.0091 - accuracy: 0.9970 - val_loss: 0.0507 - val_accuracy: 0.9887\n",
            "Epoch 7/10\n",
            "1563/1563 [==============================] - 112s 71ms/step - loss: 0.0075 - accuracy: 0.9978 - val_loss: 0.0521 - val_accuracy: 0.9887\n",
            "Epoch 8/10\n",
            "1563/1563 [==============================] - 112s 71ms/step - loss: 0.0059 - accuracy: 0.9980 - val_loss: 0.0504 - val_accuracy: 0.9893\n",
            "Epoch 9/10\n",
            "1563/1563 [==============================] - 112s 72ms/step - loss: 0.0063 - accuracy: 0.9978 - val_loss: 0.0516 - val_accuracy: 0.9897\n",
            "Epoch 10/10\n",
            "1563/1563 [==============================] - 112s 72ms/step - loss: 0.0058 - accuracy: 0.9981 - val_loss: 0.0620 - val_accuracy: 0.9895\n"
          ],
          "name": "stdout"
        }
      ]
    },
    {
      "cell_type": "code",
      "metadata": {
        "colab": {
          "base_uri": "https://localhost:8080/",
          "height": 312
        },
        "id": "yWZY5_MPznpY",
        "outputId": "48462df7-fe64-41c3-dfcb-8e068967fb36"
      },
      "source": [
        "# 8. Vẽ đồ thị loss, accuracy của traning set và validation set\n",
        "fig = plt.figure()\n",
        "numOfEpoch = 10\n",
        "plt.plot(np.arange(0, numOfEpoch), H.history['loss'], label='training loss')\n",
        "plt.plot(np.arange(0, numOfEpoch), H.history['val_loss'], label='validation loss')\n",
        "plt.title('Loss  with Epoch')\n",
        "plt.xlabel('Epoch')\n",
        "plt.ylabel('Loss')\n",
        "plt.legend()"
      ],
      "execution_count": null,
      "outputs": [
        {
          "output_type": "execute_result",
          "data": {
            "text/plain": [
              "<matplotlib.legend.Legend at 0x7f6a39e882d0>"
            ]
          },
          "metadata": {
            "tags": []
          },
          "execution_count": 8
        },
        {
          "output_type": "display_data",
          "data": {
            "image/png": "[encoded data removed]",
            "text/plain": [
              "<Figure size 432x288 with 1 Axes>"
            ]
          },
          "metadata": {
            "tags": [],
            "needs_background": "light"
          }
        }
      ]
    },
    {
      "cell_type": "code",
      "metadata": {
        "colab": {
          "base_uri": "https://localhost:8080/",
          "height": 312
        },
        "id": "9bLMsg_8cW67",
        "outputId": "07b424f5-8676-4f0c-e357-64d20420e401"
      },
      "source": [
        "plt.plot(np.arange(0, numOfEpoch), H.history['accuracy'], label='accuracy')\n",
        "plt.plot(np.arange(0, numOfEpoch), H.history['val_accuracy'], label='validation accuracy')\n",
        "plt.title('Accuracy with Epoch')\n",
        "plt.xlabel('Epoch')\n",
        "plt.ylabel('Accuracy')\n",
        "plt.legend()"
      ],
      "execution_count": null,
      "outputs": [
        {
          "output_type": "execute_result",
          "data": {
            "text/plain": [
              "<matplotlib.legend.Legend at 0x7f6a39e28990>"
            ]
          },
          "metadata": {
            "tags": []
          },
          "execution_count": 9
        },
        {
          "output_type": "display_data",
          "data": {
            "image/png": "[encoded data removed]",
            "text/plain": [
              "<Figure size 432x288 with 1 Axes>"
            ]
          },
          "metadata": {
            "tags": [],
            "needs_background": "light"
          }
        }
      ]
    },
    {
      "cell_type": "code",
      "metadata": {
        "colab": {
          "base_uri": "https://localhost:8080/"
        },
        "id": "JbKtQmh8zpR7",
        "outputId": "02b3a850-6bcd-4530-8991-322a759574ba"
      },
      "source": [
        "# 9. Đánh giá model với dữ liệu test set\n",
        "score = model.evaluate(X_test, Y_test, verbose=0)\n",
        "print(score)"
      ],
      "execution_count": null,
      "outputs": [
        {
          "output_type": "stream",
          "text": [
            "[0.050406575202941895, 0.9894999861717224]\n"
          ],
          "name": "stdout"
        }
      ]
    },
    {
      "cell_type": "code",
      "metadata": {
        "colab": {
          "base_uri": "https://localhost:8080/",
          "height": 282
        },
        "id": "XWtUa9JfzvPg",
        "outputId": "5c99b39f-5e45-4a8a-8602-b6961c0ebd85"
      },
      "source": [
        "# 10. Dự đoán ảnh\n",
        "plt.imshow(X_test[0].reshape(28,28), cmap='gray')\n",
        "\n",
        "y_predict = model.predict(X_test[0].reshape(1,28,28,1))\n",
        "print('Giá trị dự đoán: ', np.argmax(y_predict))"
      ],
      "execution_count": null,
      "outputs": [
        {
          "output_type": "stream",
          "text": [
            "Giá trị dự đoán:  7\n"
          ],
          "name": "stdout"
        },
        {
          "output_type": "display_data",
          "data": {
            "image/png": "[encoded data removed]",
            "text/plain": [
              "<Figure size 432x288 with 1 Axes>"
            ]
          },
          "metadata": {
            "tags": [],
            "needs_background": "light"
          }
        }
      ]
    },
    {
      "cell_type": "markdown",
      "metadata": {
        "id": "RGQPjYSBSvI5"
      },
      "source": [
        "## Change the architecture:"
      ]
    },
    {
      "cell_type": "code",
      "metadata": {
        "colab": {
          "base_uri": "https://localhost:8080/"
        },
        "id": "gFivXOadzxtu",
        "outputId": "71cc16dc-c542-4e10-b82e-ca76b3dd7420"
      },
      "source": [
        "# Change the architecture:\n",
        "\n",
        "#load data\n",
        "(X_train, y_train), (X_test, y_test) = mnist.load_data()\n",
        "X_val, y_val = X_train[50000:60000,:], y_train[50000:60000]\n",
        "X_train, y_train = X_train[:50000,:], y_train[:50000]\n",
        "print(X_train.shape)\n",
        "print(X_val.shape)\n",
        "\n",
        "#Reshape\n",
        "X_train = X_train.reshape(X_train.shape[0], 28, 28, 1)\n",
        "X_val = X_val.reshape(X_val.shape[0], 28, 28, 1)\n",
        "X_test = X_test.reshape(X_test.shape[0], 28, 28, 1)\n",
        "\n",
        "X_train = X_train/255.\n",
        "X_test = X_test/255.\n",
        "X_val = X_val/255.\n",
        "\n",
        "# one hot\n",
        "Y_train = np_utils.to_categorical(y_train, 10)\n",
        "Y_val = np_utils.to_categorical(y_val, 10)\n",
        "Y_test = np_utils.to_categorical(y_test, 10)\n",
        "print('Dữ liệu y ban đầu ', y_train[0])\n",
        "print('Dữ liệu y sau one-hot encoding ',Y_train[0])"
      ],
      "execution_count": null,
      "outputs": [
        {
          "output_type": "stream",
          "text": [
            "Downloading data from https://storage.googleapis.com/tensorflow/tf-keras-datasets/mnist.npz\n",
            "11493376/11490434 [==============================] - 0s 0us/step\n",
            "11501568/11490434 [==============================] - 0s 0us/step\n",
            "(50000, 28, 28)\n",
            "(10000, 28, 28)\n",
            "Dữ liệu y ban đầu  5\n",
            "Dữ liệu y sau one-hot encoding  [0. 0. 0. 0. 0. 1. 0. 0. 0. 0.]\n"
          ],
          "name": "stdout"
        }
      ]
    },
    {
      "cell_type": "code",
      "metadata": {
        "colab": {
          "base_uri": "https://localhost:8080/"
        },
        "id": "cvEQ0JI9SYwl",
        "outputId": "b1f3c3ea-d71f-40e9-b545-9c5c856eff4c"
      },
      "source": [
        "\n",
        "model = Sequential()\n",
        "\n",
        "model.add(Conv2D(32, (3, 3), padding='same', activation='relu', input_shape=(28,28,1)))\n",
        "\n",
        "model.add(MaxPooling2D())\n",
        "\n",
        "model.add(Conv2D(64, (3, 3), activation='relu'))\n",
        "\n",
        "model.add(MaxPooling2D())\n",
        "\n",
        "model.add(Conv2D(128, (3, 3), activation='relu'))\n",
        "\n",
        "model.add(Flatten())\n",
        "\n",
        "model.add(Dense(256, activation='gelu'))\n",
        "\n",
        "model.add(Dense(128, activation='gelu'))\n",
        "\n",
        "model.add(Dense(10, activation='softmax'))\n",
        "\n",
        "model.summary()"
      ],
      "execution_count": null,
      "outputs": [
        {
          "output_type": "stream",
          "text": [
            "Model: \"sequential_2\"\n",
            "_________________________________________________________________\n",
            "Layer (type)                 Output Shape              Param #   \n",
            "=================================================================\n",
            "conv2d_2 (Conv2D)            (None, 28, 28, 32)        320       \n",
            "_________________________________________________________________\n",
            "max_pooling2d_2 (MaxPooling2 (None, 14, 14, 32)        0         \n",
            "_________________________________________________________________\n",
            "conv2d_3 (Conv2D)            (None, 12, 12, 64)        18496     \n",
            "_________________________________________________________________\n",
            "max_pooling2d_3 (MaxPooling2 (None, 6, 6, 64)          0         \n",
            "_________________________________________________________________\n",
            "conv2d_4 (Conv2D)            (None, 4, 4, 128)         73856     \n",
            "_________________________________________________________________\n",
            "flatten (Flatten)            (None, 2048)              0         \n",
            "_________________________________________________________________\n",
            "dense (Dense)                (None, 256)               524544    \n",
            "_________________________________________________________________\n",
            "dense_1 (Dense)              (None, 128)               32896     \n",
            "_________________________________________________________________\n",
            "dense_2 (Dense)              (None, 10)                1290      \n",
            "=================================================================\n",
            "Total params: 651,402\n",
            "Trainable params: 651,402\n",
            "Non-trainable params: 0\n",
            "_________________________________________________________________\n"
          ],
          "name": "stdout"
        }
      ]
    },
    {
      "cell_type": "code",
      "metadata": {
        "id": "ywu56A67SYzd"
      },
      "source": [
        "model.compile(loss='categorical_crossentropy',\n",
        "              optimizer='sgd',\n",
        "              metrics=['accuracy'])"
      ],
      "execution_count": null,
      "outputs": []
    },
    {
      "cell_type": "code",
      "metadata": {
        "colab": {
          "base_uri": "https://localhost:8080/"
        },
        "id": "qvDz04pASY2a",
        "outputId": "72aee0f9-547f-4ce1-84e9-d2eead040f9f"
      },
      "source": [
        "H = model.fit(X_train, Y_train, validation_data=(X_val, Y_val),\n",
        "          batch_size=64, epochs=16, verbose=1)"
      ],
      "execution_count": null,
      "outputs": [
        {
          "output_type": "stream",
          "text": [
            "Epoch 1/16\n",
            "782/782 [==============================] - 47s 5ms/step - loss: 2.1841 - accuracy: 0.2864 - val_loss: 0.3854 - val_accuracy: 0.8825\n",
            "Epoch 2/16\n",
            "782/782 [==============================] - 3s 4ms/step - loss: 0.3407 - accuracy: 0.8928 - val_loss: 0.1721 - val_accuracy: 0.9505\n",
            "Epoch 3/16\n",
            "782/782 [==============================] - 3s 4ms/step - loss: 0.1843 - accuracy: 0.9426 - val_loss: 0.6966 - val_accuracy: 0.7611\n",
            "Epoch 4/16\n",
            "782/782 [==============================] - 4s 5ms/step - loss: 0.1416 - accuracy: 0.9560 - val_loss: 0.1627 - val_accuracy: 0.9464\n",
            "Epoch 5/16\n",
            "782/782 [==============================] - 4s 5ms/step - loss: 0.0978 - accuracy: 0.9698 - val_loss: 0.1206 - val_accuracy: 0.9642\n",
            "Epoch 6/16\n",
            "782/782 [==============================] - 3s 4ms/step - loss: 0.0801 - accuracy: 0.9749 - val_loss: 0.0731 - val_accuracy: 0.9772\n",
            "Epoch 7/16\n",
            "782/782 [==============================] - 4s 5ms/step - loss: 0.0667 - accuracy: 0.9795 - val_loss: 0.0644 - val_accuracy: 0.9813\n",
            "Epoch 8/16\n",
            "782/782 [==============================] - 3s 4ms/step - loss: 0.0581 - accuracy: 0.9819 - val_loss: 0.1430 - val_accuracy: 0.9553\n",
            "Epoch 9/16\n",
            "782/782 [==============================] - 3s 4ms/step - loss: 0.0533 - accuracy: 0.9827 - val_loss: 0.0760 - val_accuracy: 0.9769\n",
            "Epoch 10/16\n",
            "782/782 [==============================] - 3s 4ms/step - loss: 0.0444 - accuracy: 0.9861 - val_loss: 0.0608 - val_accuracy: 0.9814\n",
            "Epoch 11/16\n",
            "782/782 [==============================] - 3s 4ms/step - loss: 0.0399 - accuracy: 0.9880 - val_loss: 0.0763 - val_accuracy: 0.9765\n",
            "Epoch 12/16\n",
            "782/782 [==============================] - 4s 5ms/step - loss: 0.0370 - accuracy: 0.9886 - val_loss: 0.0802 - val_accuracy: 0.9759\n",
            "Epoch 13/16\n",
            "782/782 [==============================] - 4s 5ms/step - loss: 0.0349 - accuracy: 0.9887 - val_loss: 0.0497 - val_accuracy: 0.9851\n",
            "Epoch 14/16\n",
            "782/782 [==============================] - 4s 5ms/step - loss: 0.0332 - accuracy: 0.9893 - val_loss: 0.0496 - val_accuracy: 0.9865\n",
            "Epoch 15/16\n",
            "782/782 [==============================] - 4s 5ms/step - loss: 0.0277 - accuracy: 0.9912 - val_loss: 0.0460 - val_accuracy: 0.9856\n",
            "Epoch 16/16\n",
            "782/782 [==============================] - 4s 5ms/step - loss: 0.0280 - accuracy: 0.9916 - val_loss: 0.0470 - val_accuracy: 0.9860\n"
          ],
          "name": "stdout"
        }
      ]
    },
    {
      "cell_type": "code",
      "metadata": {
        "colab": {
          "base_uri": "https://localhost:8080/",
          "height": 312
        },
        "id": "8PtjIS19SY79",
        "outputId": "94f6f23e-5001-4d4a-fdbe-de406be33ab3"
      },
      "source": [
        "# 8. Vẽ đồ thị loss, accuracy của traning set và validation set\n",
        "fig = plt.figure()\n",
        "numOfEpoch = 16\n",
        "plt.plot(np.arange(0, numOfEpoch), H.history['loss'], label='training loss')\n",
        "plt.plot(np.arange(0, numOfEpoch), H.history['val_loss'], label='validation loss')\n",
        "plt.title('Loss  with Epoch')\n",
        "plt.xlabel('Epoch')\n",
        "plt.ylabel('Loss')\n",
        "plt.legend()"
      ],
      "execution_count": null,
      "outputs": [
        {
          "output_type": "execute_result",
          "data": {
            "text/plain": [
              "<matplotlib.legend.Legend at 0x7fcab63479d0>"
            ]
          },
          "metadata": {
            "tags": []
          },
          "execution_count": 10
        },
        {
          "output_type": "display_data",
          "data": {
            "image/png": "[encoded data removed]",
            "text/plain": [
              "<Figure size 432x288 with 1 Axes>"
            ]
          },
          "metadata": {
            "tags": [],
            "needs_background": "light"
          }
        }
      ]
    },
    {
      "cell_type": "code",
      "metadata": {
        "colab": {
          "base_uri": "https://localhost:8080/",
          "height": 312
        },
        "id": "z_-uM6IGSY-h",
        "outputId": "8db1049e-85fa-4b27-dc23-8cb40b1eae66"
      },
      "source": [
        "plt.plot(np.arange(0, numOfEpoch), H.history['accuracy'], label='accuracy')\n",
        "plt.plot(np.arange(0, numOfEpoch), H.history['val_accuracy'], label='validation accuracy')\n",
        "plt.title('Accuracy with Epoch')\n",
        "plt.xlabel('Epoch')\n",
        "plt.ylabel('Accuracy')\n",
        "plt.legend()"
      ],
      "execution_count": null,
      "outputs": [
        {
          "output_type": "execute_result",
          "data": {
            "text/plain": [
              "<matplotlib.legend.Legend at 0x7fcaa4e05190>"
            ]
          },
          "metadata": {
            "tags": []
          },
          "execution_count": 11
        },
        {
          "output_type": "display_data",
          "data": {
            "image/png": "[encoded data removed]",
            "text/plain": [
              "<Figure size 432x288 with 1 Axes>"
            ]
          },
          "metadata": {
            "tags": [],
            "needs_background": "light"
          }
        }
      ]
    },
    {
      "cell_type": "markdown",
      "metadata": {
        "id": "b4geoyJkYquf"
      },
      "source": [
        "### Cau 4: Build model tương tự VGG16 (có thể nông hơn) cho cifar10."
      ]
    },
    {
      "cell_type": "code",
      "metadata": {
        "colab": {
          "base_uri": "https://localhost:8080/"
        },
        "id": "VyVQlfO-YtMk",
        "outputId": "cbef5b43-39b5-4b48-d405-b7e95a141d45"
      },
      "source": [
        "from tensorflow import keras\n",
        "(X_train, y_train), (X_test, y_test) = keras.datasets.cifar10.load_data()\n",
        "print(X_train.shape)\n",
        "X_val, y_val = X_train[40000:50000,:], y_train[40000:50000]\n",
        "X_train, y_train = X_train[:40000,:], y_train[:40000]\n",
        "print(X_train.shape, X_val.shape)"
      ],
      "execution_count": null,
      "outputs": [
        {
          "output_type": "stream",
          "text": [
            "(50000, 32, 32, 3)\n",
            "(40000, 32, 32, 3) (10000, 32, 32, 3)\n"
          ],
          "name": "stdout"
        }
      ]
    },
    {
      "cell_type": "code",
      "metadata": {
        "colab": {
          "base_uri": "https://localhost:8080/"
        },
        "id": "1MiY19TFi3Ul",
        "outputId": "b348df8d-f422-4db7-a91a-b9f676292878"
      },
      "source": [
        "X_train.shape"
      ],
      "execution_count": null,
      "outputs": [
        {
          "output_type": "execute_result",
          "data": {
            "text/plain": [
              "(40000, 32, 32, 3)"
            ]
          },
          "metadata": {
            "tags": []
          },
          "execution_count": 12
        }
      ]
    },
    {
      "cell_type": "code",
      "metadata": {
        "colab": {
          "base_uri": "https://localhost:8080/"
        },
        "id": "z3UR6r8jighT",
        "outputId": "6f5b82b9-21c1-4ff0-ee68-8f6fc1b8bd9b"
      },
      "source": [
        "X_train = X_train.reshape(X_train.shape[0], 32, 32, 3)\n",
        "X_val = X_val.reshape(X_val.shape[0], 32, 32, 3)\n",
        "X_test = X_test.reshape(X_test.shape[0], 32, 32, 3)\n",
        "\n",
        "X_train = X_train/255.\n",
        "X_test = X_test/255.\n",
        "X_val = X_val/255.\n",
        "print(X_train.shape)"
      ],
      "execution_count": null,
      "outputs": [
        {
          "output_type": "stream",
          "text": [
            "(40000, 32, 32, 3)\n"
          ],
          "name": "stdout"
        }
      ]
    },
    {
      "cell_type": "code",
      "metadata": {
        "colab": {
          "base_uri": "https://localhost:8080/"
        },
        "id": "95v8MnivYt62",
        "outputId": "78c52d25-a8b2-4abe-99c3-b1cb78f4bc97"
      },
      "source": [
        "#one hot for Y data\n",
        "\n",
        "Y_train = np_utils.to_categorical(y_train, 10)\n",
        "Y_val = np_utils.to_categorical(y_val, 10)\n",
        "Y_test = np_utils.to_categorical(y_test, 10)\n",
        "print('Dữ liệu y ban đầu ', y_train[0])\n",
        "print('Dữ liệu y sau one-hot encoding ',Y_train[0])"
      ],
      "execution_count": null,
      "outputs": [
        {
          "output_type": "stream",
          "text": [
            "Dữ liệu y ban đầu  [6]\n",
            "Dữ liệu y sau one-hot encoding  [0. 0. 0. 0. 0. 0. 1. 0. 0. 0.]\n"
          ],
          "name": "stdout"
        }
      ]
    },
    {
      "cell_type": "code",
      "metadata": {
        "colab": {
          "base_uri": "https://localhost:8080/"
        },
        "id": "ilLc4Y3QYt9e",
        "outputId": "8c369d40-fa74-4a91-806b-a44ebc743ac0"
      },
      "source": [
        "# design architecture\n",
        "model = Sequential()\n",
        "\n",
        "# init\n",
        "model.add(Conv2D(64, (3, 3), strides=(1, 1), padding='same', activation='relu', input_shape=(32,32,3)))\n",
        "model.add(MaxPooling2D())\n",
        "# model.add(Dropout(0.2))\n",
        "\n",
        "# D F F: 128*3*3\n",
        "model.add(Conv2D(128, (3, 3), padding='same', activation='relu'))\n",
        "# model.add(Dropout(0.2))\n",
        "model.add(MaxPooling2D())\n",
        "\n",
        "# 256 * 3 * 3\n",
        "model.add(Conv2D(256, (3, 3), strides=(2,2), padding='same', activation='relu'))\n",
        "model.add(Dropout(0.1))\n",
        "# model.add(MaxPooling2D())\n",
        "\n",
        "# 512 * 3 * 3\n",
        "model.add(Conv2D(512, (3, 3), padding='same', activation='relu'))\n",
        "model.add(Dropout(0.1))\n",
        "model.add(Conv2D(512, (3, 3), padding='same', activation='relu'))\n",
        "model.add(Dropout(0.1))\n",
        "model.add(MaxPooling2D())\n",
        "\n",
        "# Flatten layer chuyển từ tensor sang vector\n",
        "model.add(Flatten())\n",
        "\n",
        "model.add(Dense(1024, activation='relu'))\n",
        "\n",
        "model.add(Dense(512, activation='relu'))\n",
        "\n",
        "model.add(Dense(32, activation='relu'))\n",
        "\n",
        "# Output layer với 10 node và dùng softmax function để chuyển sang xác xuất.\n",
        "model.add(Dense(10, activation='softmax'))\n",
        "\n",
        "model.summary()\n"
      ],
      "execution_count": null,
      "outputs": [
        {
          "output_type": "stream",
          "text": [
            "Model: \"sequential_1\"\n",
            "_________________________________________________________________\n",
            "Layer (type)                 Output Shape              Param #   \n",
            "=================================================================\n",
            "conv2d_5 (Conv2D)            (None, 32, 32, 64)        1792      \n",
            "_________________________________________________________________\n",
            "max_pooling2d_3 (MaxPooling2 (None, 16, 16, 64)        0         \n",
            "_________________________________________________________________\n",
            "conv2d_6 (Conv2D)            (None, 16, 16, 128)       73856     \n",
            "_________________________________________________________________\n",
            "max_pooling2d_4 (MaxPooling2 (None, 8, 8, 128)         0         \n",
            "_________________________________________________________________\n",
            "conv2d_7 (Conv2D)            (None, 4, 4, 256)         295168    \n",
            "_________________________________________________________________\n",
            "dropout_3 (Dropout)          (None, 4, 4, 256)         0         \n",
            "_________________________________________________________________\n",
            "conv2d_8 (Conv2D)            (None, 4, 4, 512)         1180160   \n",
            "_________________________________________________________________\n",
            "dropout_4 (Dropout)          (None, 4, 4, 512)         0         \n",
            "_________________________________________________________________\n",
            "conv2d_9 (Conv2D)            (None, 4, 4, 512)         2359808   \n",
            "_________________________________________________________________\n",
            "dropout_5 (Dropout)          (None, 4, 4, 512)         0         \n",
            "_________________________________________________________________\n",
            "max_pooling2d_5 (MaxPooling2 (None, 2, 2, 512)         0         \n",
            "_________________________________________________________________\n",
            "flatten_1 (Flatten)          (None, 2048)              0         \n",
            "_________________________________________________________________\n",
            "dense_4 (Dense)              (None, 1024)              2098176   \n",
            "_________________________________________________________________\n",
            "dense_5 (Dense)              (None, 512)               524800    \n",
            "_________________________________________________________________\n",
            "dense_6 (Dense)              (None, 32)                16416     \n",
            "_________________________________________________________________\n",
            "dense_7 (Dense)              (None, 10)                330       \n",
            "=================================================================\n",
            "Total params: 6,550,506\n",
            "Trainable params: 6,550,506\n",
            "Non-trainable params: 0\n",
            "_________________________________________________________________\n"
          ],
          "name": "stdout"
        }
      ]
    },
    {
      "cell_type": "code",
      "metadata": {
        "id": "VvbiqyevYt_s"
      },
      "source": [
        "opt = keras.optimizers.SGD(learning_rate=0.00071)\n",
        "\n",
        "model.compile(loss='categorical_crossentropy',\n",
        "              optimizer=opt,\n",
        "              metrics=['accuracy'])"
      ],
      "execution_count": null,
      "outputs": []
    },
    {
      "cell_type": "code",
      "metadata": {
        "colab": {
          "base_uri": "https://localhost:8080/"
        },
        "id": "wSOrUMtGYuB6",
        "outputId": "c5ebf45c-5357-485e-b03f-b1ff47361193"
      },
      "source": [
        "numOfEpoch = 150\n",
        "H = model.fit(X_train, Y_train, validation_data=(X_val, Y_val),\n",
        "          batch_size=32, epochs=numOfEpoch, verbose=1)"
      ],
      "execution_count": null,
      "outputs": [
        {
          "output_type": "stream",
          "text": [
            "Epoch 1/150\n",
            "1250/1250 [==============================] - 15s 11ms/step - loss: 2.3023 - accuracy: 0.1103 - val_loss: 2.3005 - val_accuracy: 0.1673\n",
            "Epoch 2/150\n",
            "1250/1250 [==============================] - 14s 11ms/step - loss: 2.3006 - accuracy: 0.1399 - val_loss: 2.2984 - val_accuracy: 0.1989\n",
            "Epoch 3/150\n",
            "1250/1250 [==============================] - 14s 11ms/step - loss: 2.2987 - accuracy: 0.1667 - val_loss: 2.2958 - val_accuracy: 0.2030\n",
            "Epoch 4/150\n",
            "1250/1250 [==============================] - 13s 11ms/step - loss: 2.2957 - accuracy: 0.1850 - val_loss: 2.2916 - val_accuracy: 0.2050\n",
            "Epoch 5/150\n",
            "1250/1250 [==============================] - 13s 11ms/step - loss: 2.2913 - accuracy: 0.1924 - val_loss: 2.2847 - val_accuracy: 0.2018\n",
            "Epoch 6/150\n",
            "1250/1250 [==============================] - 13s 11ms/step - loss: 2.2832 - accuracy: 0.1974 - val_loss: 2.2715 - val_accuracy: 0.1986\n",
            "Epoch 7/150\n",
            "1250/1250 [==============================] - 13s 11ms/step - loss: 2.2678 - accuracy: 0.1998 - val_loss: 2.2419 - val_accuracy: 0.1955\n",
            "Epoch 8/150\n",
            "1250/1250 [==============================] - 13s 11ms/step - loss: 2.2277 - accuracy: 0.1958 - val_loss: 2.1623 - val_accuracy: 0.2155\n",
            "Epoch 9/150\n",
            "1250/1250 [==============================] - 14s 11ms/step - loss: 2.1332 - accuracy: 0.2090 - val_loss: 2.0585 - val_accuracy: 0.2345\n",
            "Epoch 10/150\n",
            "1250/1250 [==============================] - 13s 11ms/step - loss: 2.0408 - accuracy: 0.2403 - val_loss: 2.0079 - val_accuracy: 0.2453\n",
            "Epoch 11/150\n",
            "1250/1250 [==============================] - 14s 11ms/step - loss: 2.0007 - accuracy: 0.2557 - val_loss: 1.9777 - val_accuracy: 0.2633\n",
            "Epoch 12/150\n",
            "1250/1250 [==============================] - 13s 11ms/step - loss: 1.9754 - accuracy: 0.2645 - val_loss: 1.9517 - val_accuracy: 0.2710\n",
            "Epoch 13/150\n",
            "1250/1250 [==============================] - 13s 11ms/step - loss: 1.9505 - accuracy: 0.2737 - val_loss: 1.9269 - val_accuracy: 0.2815\n",
            "Epoch 14/150\n",
            "1250/1250 [==============================] - 13s 11ms/step - loss: 1.9145 - accuracy: 0.2934 - val_loss: 1.8894 - val_accuracy: 0.3063\n",
            "Epoch 15/150\n",
            "1250/1250 [==============================] - 13s 11ms/step - loss: 1.8931 - accuracy: 0.2948 - val_loss: 1.8582 - val_accuracy: 0.3152\n",
            "Epoch 16/150\n",
            "1250/1250 [==============================] - 14s 11ms/step - loss: 1.8607 - accuracy: 0.3134 - val_loss: 1.8255 - val_accuracy: 0.3206\n",
            "Epoch 17/150\n",
            "1250/1250 [==============================] - 13s 11ms/step - loss: 1.8382 - accuracy: 0.3187 - val_loss: 1.7931 - val_accuracy: 0.3416\n",
            "Epoch 18/150\n",
            "1250/1250 [==============================] - 13s 11ms/step - loss: 1.7992 - accuracy: 0.3337 - val_loss: 1.7829 - val_accuracy: 0.3486\n",
            "Epoch 19/150\n",
            "1250/1250 [==============================] - 13s 11ms/step - loss: 1.7715 - accuracy: 0.3515 - val_loss: 1.7402 - val_accuracy: 0.3593\n",
            "Epoch 20/150\n",
            "1250/1250 [==============================] - 13s 11ms/step - loss: 1.7317 - accuracy: 0.3610 - val_loss: 1.7434 - val_accuracy: 0.3605\n",
            "Epoch 21/150\n",
            "1250/1250 [==============================] - 13s 11ms/step - loss: 1.7097 - accuracy: 0.3722 - val_loss: 1.6972 - val_accuracy: 0.3668\n",
            "Epoch 22/150\n",
            "1250/1250 [==============================] - 14s 11ms/step - loss: 1.6920 - accuracy: 0.3715 - val_loss: 1.6601 - val_accuracy: 0.3891\n",
            "Epoch 23/150\n",
            "1250/1250 [==============================] - 13s 11ms/step - loss: 1.6653 - accuracy: 0.3890 - val_loss: 1.6276 - val_accuracy: 0.4017\n",
            "Epoch 24/150\n",
            "1250/1250 [==============================] - 13s 11ms/step - loss: 1.6428 - accuracy: 0.3954 - val_loss: 1.6200 - val_accuracy: 0.4020\n",
            "Epoch 25/150\n",
            "1250/1250 [==============================] - 14s 11ms/step - loss: 1.6234 - accuracy: 0.4023 - val_loss: 1.5947 - val_accuracy: 0.4154\n",
            "Epoch 26/150\n",
            "1250/1250 [==============================] - 14s 11ms/step - loss: 1.6089 - accuracy: 0.4069 - val_loss: 1.5686 - val_accuracy: 0.4255\n",
            "Epoch 27/150\n",
            "1250/1250 [==============================] - 13s 11ms/step - loss: 1.5805 - accuracy: 0.4175 - val_loss: 1.5776 - val_accuracy: 0.4210\n",
            "Epoch 28/150\n",
            "1250/1250 [==============================] - 14s 11ms/step - loss: 1.5618 - accuracy: 0.4323 - val_loss: 1.5320 - val_accuracy: 0.4417\n",
            "Epoch 29/150\n",
            "1250/1250 [==============================] - 13s 11ms/step - loss: 1.5455 - accuracy: 0.4340 - val_loss: 1.5001 - val_accuracy: 0.4512\n",
            "Epoch 30/150\n",
            "1250/1250 [==============================] - 14s 11ms/step - loss: 1.5179 - accuracy: 0.4439 - val_loss: 1.5106 - val_accuracy: 0.4491\n",
            "Epoch 31/150\n",
            "1250/1250 [==============================] - 14s 11ms/step - loss: 1.5053 - accuracy: 0.4447 - val_loss: 1.4809 - val_accuracy: 0.4599\n",
            "Epoch 32/150\n",
            "1250/1250 [==============================] - 14s 11ms/step - loss: 1.4758 - accuracy: 0.4577 - val_loss: 1.4685 - val_accuracy: 0.4625\n",
            "Epoch 33/150\n",
            "1250/1250 [==============================] - 14s 11ms/step - loss: 1.4683 - accuracy: 0.4614 - val_loss: 1.4407 - val_accuracy: 0.4739\n",
            "Epoch 34/150\n",
            "1250/1250 [==============================] - 13s 11ms/step - loss: 1.4500 - accuracy: 0.4730 - val_loss: 1.4252 - val_accuracy: 0.4824\n",
            "Epoch 35/150\n",
            "1250/1250 [==============================] - 13s 11ms/step - loss: 1.4333 - accuracy: 0.4768 - val_loss: 1.4128 - val_accuracy: 0.4902\n",
            "Epoch 36/150\n",
            "1250/1250 [==============================] - 14s 11ms/step - loss: 1.4107 - accuracy: 0.4876 - val_loss: 1.4203 - val_accuracy: 0.4859\n",
            "Epoch 37/150\n",
            "1250/1250 [==============================] - 13s 11ms/step - loss: 1.4061 - accuracy: 0.4883 - val_loss: 1.3771 - val_accuracy: 0.5018\n",
            "Epoch 38/150\n",
            "1250/1250 [==============================] - 14s 11ms/step - loss: 1.3832 - accuracy: 0.4932 - val_loss: 1.3946 - val_accuracy: 0.4993\n",
            "Epoch 39/150\n",
            "1250/1250 [==============================] - 13s 11ms/step - loss: 1.3704 - accuracy: 0.5009 - val_loss: 1.3532 - val_accuracy: 0.5100\n",
            "Epoch 40/150\n",
            "1250/1250 [==============================] - 14s 11ms/step - loss: 1.3592 - accuracy: 0.5029 - val_loss: 1.3861 - val_accuracy: 0.4995\n",
            "Epoch 41/150\n",
            "1250/1250 [==============================] - 14s 11ms/step - loss: 1.3440 - accuracy: 0.5131 - val_loss: 1.3268 - val_accuracy: 0.5213\n",
            "Epoch 42/150\n",
            "1250/1250 [==============================] - 14s 11ms/step - loss: 1.3301 - accuracy: 0.5192 - val_loss: 1.3221 - val_accuracy: 0.5205\n",
            "Epoch 43/150\n",
            "1250/1250 [==============================] - 14s 11ms/step - loss: 1.3263 - accuracy: 0.5185 - val_loss: 1.3101 - val_accuracy: 0.5292\n",
            "Epoch 44/150\n",
            "1250/1250 [==============================] - 14s 11ms/step - loss: 1.3149 - accuracy: 0.5231 - val_loss: 1.3112 - val_accuracy: 0.5285\n",
            "Epoch 45/150\n",
            "1250/1250 [==============================] - 14s 11ms/step - loss: 1.3160 - accuracy: 0.5249 - val_loss: 1.2861 - val_accuracy: 0.5377\n",
            "Epoch 46/150\n",
            "1250/1250 [==============================] - 14s 11ms/step - loss: 1.3002 - accuracy: 0.5335 - val_loss: 1.2775 - val_accuracy: 0.5467\n",
            "Epoch 47/150\n",
            "1250/1250 [==============================] - 14s 11ms/step - loss: 1.2763 - accuracy: 0.5395 - val_loss: 1.2669 - val_accuracy: 0.5504\n",
            "Epoch 48/150\n",
            "1250/1250 [==============================] - 13s 11ms/step - loss: 1.2702 - accuracy: 0.5426 - val_loss: 1.2785 - val_accuracy: 0.5411\n",
            "Epoch 49/150\n",
            "1250/1250 [==============================] - 14s 11ms/step - loss: 1.2685 - accuracy: 0.5406 - val_loss: 1.2749 - val_accuracy: 0.5448\n",
            "Epoch 50/150\n",
            "1250/1250 [==============================] - 14s 11ms/step - loss: 1.2504 - accuracy: 0.5500 - val_loss: 1.2502 - val_accuracy: 0.5503\n",
            "Epoch 51/150\n",
            "1250/1250 [==============================] - 14s 11ms/step - loss: 1.2547 - accuracy: 0.5466 - val_loss: 1.2336 - val_accuracy: 0.5653\n",
            "Epoch 52/150\n",
            "1250/1250 [==============================] - 14s 11ms/step - loss: 1.2349 - accuracy: 0.5562 - val_loss: 1.2490 - val_accuracy: 0.5550\n",
            "Epoch 53/150\n",
            "1250/1250 [==============================] - 14s 11ms/step - loss: 1.2186 - accuracy: 0.5638 - val_loss: 1.2299 - val_accuracy: 0.5625\n",
            "Epoch 54/150\n",
            "1250/1250 [==============================] - 13s 11ms/step - loss: 1.2144 - accuracy: 0.5648 - val_loss: 1.2060 - val_accuracy: 0.5784\n",
            "Epoch 55/150\n",
            "1250/1250 [==============================] - 14s 11ms/step - loss: 1.1947 - accuracy: 0.5736 - val_loss: 1.1880 - val_accuracy: 0.5833\n",
            "Epoch 56/150\n",
            "1250/1250 [==============================] - 13s 11ms/step - loss: 1.1817 - accuracy: 0.5765 - val_loss: 1.1878 - val_accuracy: 0.5793\n",
            "Epoch 57/150\n",
            "1250/1250 [==============================] - 14s 11ms/step - loss: 1.1788 - accuracy: 0.5811 - val_loss: 1.1698 - val_accuracy: 0.5863\n",
            "Epoch 58/150\n",
            "1250/1250 [==============================] - 14s 11ms/step - loss: 1.1678 - accuracy: 0.5827 - val_loss: 1.1649 - val_accuracy: 0.5875\n",
            "Epoch 59/150\n",
            "1250/1250 [==============================] - 14s 11ms/step - loss: 1.1710 - accuracy: 0.5839 - val_loss: 1.1816 - val_accuracy: 0.5872\n",
            "Epoch 60/150\n",
            "1250/1250 [==============================] - 13s 11ms/step - loss: 1.1581 - accuracy: 0.5907 - val_loss: 1.1442 - val_accuracy: 0.5974\n",
            "Epoch 61/150\n",
            "1250/1250 [==============================] - 13s 11ms/step - loss: 1.1443 - accuracy: 0.5948 - val_loss: 1.1296 - val_accuracy: 0.6046\n",
            "Epoch 62/150\n",
            "1250/1250 [==============================] - 13s 11ms/step - loss: 1.1255 - accuracy: 0.5969 - val_loss: 1.1494 - val_accuracy: 0.5987\n",
            "Epoch 63/150\n",
            "1250/1250 [==============================] - 14s 11ms/step - loss: 1.1235 - accuracy: 0.6029 - val_loss: 1.1320 - val_accuracy: 0.6006\n",
            "Epoch 64/150\n",
            "1250/1250 [==============================] - 14s 11ms/step - loss: 1.1087 - accuracy: 0.6079 - val_loss: 1.1446 - val_accuracy: 0.5933\n",
            "Epoch 65/150\n",
            "1250/1250 [==============================] - 14s 11ms/step - loss: 1.1005 - accuracy: 0.6084 - val_loss: 1.1152 - val_accuracy: 0.6117\n",
            "Epoch 66/150\n",
            "1250/1250 [==============================] - 14s 11ms/step - loss: 1.0897 - accuracy: 0.6108 - val_loss: 1.1374 - val_accuracy: 0.6075\n",
            "Epoch 67/150\n",
            "1250/1250 [==============================] - 14s 11ms/step - loss: 1.0773 - accuracy: 0.6168 - val_loss: 1.0797 - val_accuracy: 0.6239\n",
            "Epoch 68/150\n",
            "1250/1250 [==============================] - 14s 11ms/step - loss: 1.0672 - accuracy: 0.6214 - val_loss: 1.0802 - val_accuracy: 0.6195\n",
            "Epoch 69/150\n",
            "1250/1250 [==============================] - 14s 11ms/step - loss: 1.0592 - accuracy: 0.6211 - val_loss: 1.0770 - val_accuracy: 0.6261\n",
            "Epoch 70/150\n",
            "1250/1250 [==============================] - 14s 11ms/step - loss: 1.0547 - accuracy: 0.6224 - val_loss: 1.1021 - val_accuracy: 0.6162\n",
            "Epoch 71/150\n",
            "1250/1250 [==============================] - 14s 11ms/step - loss: 1.0438 - accuracy: 0.6299 - val_loss: 1.0588 - val_accuracy: 0.6359\n",
            "Epoch 72/150\n",
            "1250/1250 [==============================] - 13s 11ms/step - loss: 1.0467 - accuracy: 0.6329 - val_loss: 1.0523 - val_accuracy: 0.6335\n",
            "Epoch 73/150\n",
            "1250/1250 [==============================] - 13s 11ms/step - loss: 1.0290 - accuracy: 0.6356 - val_loss: 1.0486 - val_accuracy: 0.6328\n",
            "Epoch 74/150\n",
            "1250/1250 [==============================] - 13s 11ms/step - loss: 1.0232 - accuracy: 0.6404 - val_loss: 1.0499 - val_accuracy: 0.6390\n",
            "Epoch 75/150\n",
            "1250/1250 [==============================] - 13s 11ms/step - loss: 1.0127 - accuracy: 0.6438 - val_loss: 1.0925 - val_accuracy: 0.6196\n",
            "Epoch 76/150\n",
            "1250/1250 [==============================] - 13s 11ms/step - loss: 0.9891 - accuracy: 0.6506 - val_loss: 1.0155 - val_accuracy: 0.6504\n",
            "Epoch 77/150\n",
            "1250/1250 [==============================] - 13s 11ms/step - loss: 0.9867 - accuracy: 0.6503 - val_loss: 1.0078 - val_accuracy: 0.6502\n",
            "Epoch 78/150\n",
            "1250/1250 [==============================] - 13s 11ms/step - loss: 0.9811 - accuracy: 0.6529 - val_loss: 1.0073 - val_accuracy: 0.6518\n",
            "Epoch 79/150\n",
            "1250/1250 [==============================] - 13s 11ms/step - loss: 0.9683 - accuracy: 0.6597 - val_loss: 1.0010 - val_accuracy: 0.6547\n",
            "Epoch 80/150\n",
            "1250/1250 [==============================] - 13s 11ms/step - loss: 0.9612 - accuracy: 0.6603 - val_loss: 0.9899 - val_accuracy: 0.6601\n",
            "Epoch 81/150\n",
            "1250/1250 [==============================] - 13s 11ms/step - loss: 0.9534 - accuracy: 0.6609 - val_loss: 1.0294 - val_accuracy: 0.6398\n",
            "Epoch 82/150\n",
            "1250/1250 [==============================] - 13s 11ms/step - loss: 0.9425 - accuracy: 0.6665 - val_loss: 0.9853 - val_accuracy: 0.6582\n",
            "Epoch 83/150\n",
            "1250/1250 [==============================] - 13s 11ms/step - loss: 0.9348 - accuracy: 0.6695 - val_loss: 0.9722 - val_accuracy: 0.6628\n",
            "Epoch 84/150\n",
            "1250/1250 [==============================] - 13s 11ms/step - loss: 0.9242 - accuracy: 0.6722 - val_loss: 0.9809 - val_accuracy: 0.6610\n",
            "Epoch 85/150\n",
            "1250/1250 [==============================] - 13s 11ms/step - loss: 0.9243 - accuracy: 0.6739 - val_loss: 0.9544 - val_accuracy: 0.6710\n",
            "Epoch 86/150\n",
            "1250/1250 [==============================] - 13s 11ms/step - loss: 0.9131 - accuracy: 0.6816 - val_loss: 0.9456 - val_accuracy: 0.6768\n",
            "Epoch 87/150\n",
            "1250/1250 [==============================] - 13s 11ms/step - loss: 0.8962 - accuracy: 0.6832 - val_loss: 0.9477 - val_accuracy: 0.6775\n",
            "Epoch 88/150\n",
            "1250/1250 [==============================] - 13s 11ms/step - loss: 0.9097 - accuracy: 0.6818 - val_loss: 0.9444 - val_accuracy: 0.6746\n",
            "Epoch 89/150\n",
            "1250/1250 [==============================] - 13s 11ms/step - loss: 0.8856 - accuracy: 0.6846 - val_loss: 0.9403 - val_accuracy: 0.6764\n",
            "Epoch 90/150\n",
            "1250/1250 [==============================] - 13s 11ms/step - loss: 0.8760 - accuracy: 0.6897 - val_loss: 0.9417 - val_accuracy: 0.6771\n",
            "Epoch 91/150\n",
            "1250/1250 [==============================] - 13s 11ms/step - loss: 0.8633 - accuracy: 0.6956 - val_loss: 0.9342 - val_accuracy: 0.6773\n",
            "Epoch 92/150\n",
            "1250/1250 [==============================] - 13s 11ms/step - loss: 0.8602 - accuracy: 0.6970 - val_loss: 0.9412 - val_accuracy: 0.6803\n",
            "Epoch 93/150\n",
            "1250/1250 [==============================] - 13s 11ms/step - loss: 0.8538 - accuracy: 0.7011 - val_loss: 0.9214 - val_accuracy: 0.6836\n",
            "Epoch 94/150\n",
            "1250/1250 [==============================] - 13s 11ms/step - loss: 0.8482 - accuracy: 0.6998 - val_loss: 0.9372 - val_accuracy: 0.6791\n",
            "Epoch 95/150\n",
            "1250/1250 [==============================] - 13s 11ms/step - loss: 0.8408 - accuracy: 0.7027 - val_loss: 0.9193 - val_accuracy: 0.6779\n",
            "Epoch 96/150\n",
            "1250/1250 [==============================] - 13s 11ms/step - loss: 0.8285 - accuracy: 0.7066 - val_loss: 0.9385 - val_accuracy: 0.6771\n",
            "Epoch 97/150\n",
            "1250/1250 [==============================] - 13s 11ms/step - loss: 0.8278 - accuracy: 0.7093 - val_loss: 0.8944 - val_accuracy: 0.6933\n",
            "Epoch 98/150\n",
            "1250/1250 [==============================] - 13s 11ms/step - loss: 0.8192 - accuracy: 0.7120 - val_loss: 0.9121 - val_accuracy: 0.6899\n",
            "Epoch 99/150\n",
            "1250/1250 [==============================] - 13s 11ms/step - loss: 0.8025 - accuracy: 0.7136 - val_loss: 0.8825 - val_accuracy: 0.6959\n",
            "Epoch 100/150\n",
            "1250/1250 [==============================] - 13s 11ms/step - loss: 0.7970 - accuracy: 0.7199 - val_loss: 0.8896 - val_accuracy: 0.6974\n",
            "Epoch 101/150\n",
            "1250/1250 [==============================] - 13s 11ms/step - loss: 0.7960 - accuracy: 0.7220 - val_loss: 0.9263 - val_accuracy: 0.6801\n",
            "Epoch 102/150\n",
            "1250/1250 [==============================] - 13s 11ms/step - loss: 0.7914 - accuracy: 0.7242 - val_loss: 0.8673 - val_accuracy: 0.7024\n",
            "Epoch 103/150\n",
            "1250/1250 [==============================] - 13s 11ms/step - loss: 0.7844 - accuracy: 0.7229 - val_loss: 0.8713 - val_accuracy: 0.7049\n",
            "Epoch 104/150\n",
            "1250/1250 [==============================] - 13s 11ms/step - loss: 0.7671 - accuracy: 0.7292 - val_loss: 0.8727 - val_accuracy: 0.6998\n",
            "Epoch 105/150\n",
            "1250/1250 [==============================] - 13s 11ms/step - loss: 0.7705 - accuracy: 0.7324 - val_loss: 0.8933 - val_accuracy: 0.6898\n",
            "Epoch 106/150\n",
            "1250/1250 [==============================] - 13s 11ms/step - loss: 0.7526 - accuracy: 0.7357 - val_loss: 0.8743 - val_accuracy: 0.7044\n",
            "Epoch 107/150\n",
            "1250/1250 [==============================] - 13s 11ms/step - loss: 0.7429 - accuracy: 0.7400 - val_loss: 0.8557 - val_accuracy: 0.7057\n",
            "Epoch 108/150\n",
            "1250/1250 [==============================] - 13s 11ms/step - loss: 0.7343 - accuracy: 0.7431 - val_loss: 0.8928 - val_accuracy: 0.6883\n",
            "Epoch 109/150\n",
            "1250/1250 [==============================] - 13s 11ms/step - loss: 0.7305 - accuracy: 0.7439 - val_loss: 0.8700 - val_accuracy: 0.7035\n",
            "Epoch 110/150\n",
            "1250/1250 [==============================] - 13s 11ms/step - loss: 0.7303 - accuracy: 0.7453 - val_loss: 0.8600 - val_accuracy: 0.7039\n",
            "Epoch 111/150\n",
            "1250/1250 [==============================] - 13s 11ms/step - loss: 0.7084 - accuracy: 0.7517 - val_loss: 0.8406 - val_accuracy: 0.7122\n",
            "Epoch 112/150\n",
            "1250/1250 [==============================] - 13s 11ms/step - loss: 0.7095 - accuracy: 0.7481 - val_loss: 0.8404 - val_accuracy: 0.7139\n",
            "Epoch 113/150\n",
            "1250/1250 [==============================] - 13s 11ms/step - loss: 0.6856 - accuracy: 0.7582 - val_loss: 0.8791 - val_accuracy: 0.6964\n",
            "Epoch 114/150\n",
            "1250/1250 [==============================] - 13s 11ms/step - loss: 0.6966 - accuracy: 0.7541 - val_loss: 0.8515 - val_accuracy: 0.7091\n",
            "Epoch 115/150\n",
            "1250/1250 [==============================] - 13s 11ms/step - loss: 0.6827 - accuracy: 0.7602 - val_loss: 0.8491 - val_accuracy: 0.7090\n",
            "Epoch 116/150\n",
            "1250/1250 [==============================] - 13s 11ms/step - loss: 0.6743 - accuracy: 0.7670 - val_loss: 0.8498 - val_accuracy: 0.7136\n",
            "Epoch 117/150\n",
            "1250/1250 [==============================] - 13s 11ms/step - loss: 0.6725 - accuracy: 0.7603 - val_loss: 0.8317 - val_accuracy: 0.7153\n",
            "Epoch 118/150\n",
            "1250/1250 [==============================] - 13s 11ms/step - loss: 0.6598 - accuracy: 0.7718 - val_loss: 0.8260 - val_accuracy: 0.7177\n",
            "Epoch 119/150\n",
            "1250/1250 [==============================] - 13s 11ms/step - loss: 0.6459 - accuracy: 0.7726 - val_loss: 0.8296 - val_accuracy: 0.7135\n",
            "Epoch 120/150\n",
            "1250/1250 [==============================] - 13s 11ms/step - loss: 0.6415 - accuracy: 0.7754 - val_loss: 0.8290 - val_accuracy: 0.7163\n",
            "Epoch 121/150\n",
            "1250/1250 [==============================] - 13s 11ms/step - loss: 0.6380 - accuracy: 0.7766 - val_loss: 0.8198 - val_accuracy: 0.7204\n",
            "Epoch 122/150\n",
            "1250/1250 [==============================] - 13s 11ms/step - loss: 0.6207 - accuracy: 0.7821 - val_loss: 0.8148 - val_accuracy: 0.7199\n",
            "Epoch 123/150\n",
            "1250/1250 [==============================] - 14s 11ms/step - loss: 0.6238 - accuracy: 0.7820 - val_loss: 0.8194 - val_accuracy: 0.7204\n",
            "Epoch 124/150\n",
            "1250/1250 [==============================] - 13s 11ms/step - loss: 0.6107 - accuracy: 0.7874 - val_loss: 0.8296 - val_accuracy: 0.7179\n",
            "Epoch 125/150\n",
            "1250/1250 [==============================] - 13s 11ms/step - loss: 0.6105 - accuracy: 0.7865 - val_loss: 0.8289 - val_accuracy: 0.7219\n",
            "Epoch 126/150\n",
            "1250/1250 [==============================] - 13s 11ms/step - loss: 0.5989 - accuracy: 0.7929 - val_loss: 0.8320 - val_accuracy: 0.7203\n",
            "Epoch 127/150\n",
            "1250/1250 [==============================] - 14s 11ms/step - loss: 0.5884 - accuracy: 0.7941 - val_loss: 0.8093 - val_accuracy: 0.7199\n",
            "Epoch 128/150\n",
            "1250/1250 [==============================] - 14s 11ms/step - loss: 0.5767 - accuracy: 0.8009 - val_loss: 0.8038 - val_accuracy: 0.7243\n",
            "Epoch 129/150\n",
            "1250/1250 [==============================] - 13s 11ms/step - loss: 0.5697 - accuracy: 0.8018 - val_loss: 0.8191 - val_accuracy: 0.7262\n",
            "Epoch 130/150\n",
            "1250/1250 [==============================] - 14s 11ms/step - loss: 0.5570 - accuracy: 0.8057 - val_loss: 0.7968 - val_accuracy: 0.7303\n",
            "Epoch 131/150\n",
            "1250/1250 [==============================] - 14s 11ms/step - loss: 0.5539 - accuracy: 0.8068 - val_loss: 0.8108 - val_accuracy: 0.7237\n",
            "Epoch 132/150\n",
            "1250/1250 [==============================] - 14s 11ms/step - loss: 0.5541 - accuracy: 0.8034 - val_loss: 0.8070 - val_accuracy: 0.7310\n",
            "Epoch 133/150\n",
            "1250/1250 [==============================] - 14s 11ms/step - loss: 0.5348 - accuracy: 0.8122 - val_loss: 0.8150 - val_accuracy: 0.7263\n",
            "Epoch 134/150\n",
            "1250/1250 [==============================] - 14s 11ms/step - loss: 0.5347 - accuracy: 0.8120 - val_loss: 0.8018 - val_accuracy: 0.7330\n",
            "Epoch 135/150\n",
            "1250/1250 [==============================] - 14s 11ms/step - loss: 0.5232 - accuracy: 0.8161 - val_loss: 0.8503 - val_accuracy: 0.7136\n",
            "Epoch 136/150\n",
            "1250/1250 [==============================] - 14s 11ms/step - loss: 0.5103 - accuracy: 0.8229 - val_loss: 0.8109 - val_accuracy: 0.7316\n",
            "Epoch 137/150\n",
            "1250/1250 [==============================] - 13s 11ms/step - loss: 0.5080 - accuracy: 0.8225 - val_loss: 0.8156 - val_accuracy: 0.7278\n",
            "Epoch 138/150\n",
            "1250/1250 [==============================] - 13s 11ms/step - loss: 0.5040 - accuracy: 0.8260 - val_loss: 0.8062 - val_accuracy: 0.7290\n",
            "Epoch 139/150\n",
            "1250/1250 [==============================] - 14s 11ms/step - loss: 0.4902 - accuracy: 0.8299 - val_loss: 0.8072 - val_accuracy: 0.7297\n",
            "Epoch 140/150\n",
            "1250/1250 [==============================] - 14s 11ms/step - loss: 0.4822 - accuracy: 0.8301 - val_loss: 0.8142 - val_accuracy: 0.7294\n",
            "Epoch 141/150\n",
            "1250/1250 [==============================] - 14s 11ms/step - loss: 0.4714 - accuracy: 0.8356 - val_loss: 0.7903 - val_accuracy: 0.7360\n",
            "Epoch 142/150\n",
            "1250/1250 [==============================] - 13s 11ms/step - loss: 0.4603 - accuracy: 0.8433 - val_loss: 0.8125 - val_accuracy: 0.7299\n",
            "Epoch 143/150\n",
            "1250/1250 [==============================] - 13s 11ms/step - loss: 0.4535 - accuracy: 0.8429 - val_loss: 0.8095 - val_accuracy: 0.7321\n",
            "Epoch 144/150\n",
            "1250/1250 [==============================] - 14s 11ms/step - loss: 0.4488 - accuracy: 0.8461 - val_loss: 0.8196 - val_accuracy: 0.7317\n",
            "Epoch 145/150\n",
            "1250/1250 [==============================] - 14s 11ms/step - loss: 0.4404 - accuracy: 0.8472 - val_loss: 0.8091 - val_accuracy: 0.7353\n",
            "Epoch 146/150\n",
            "1250/1250 [==============================] - 13s 11ms/step - loss: 0.4323 - accuracy: 0.8476 - val_loss: 0.7988 - val_accuracy: 0.7378\n",
            "Epoch 147/150\n",
            "1250/1250 [==============================] - 14s 11ms/step - loss: 0.4202 - accuracy: 0.8549 - val_loss: 0.8072 - val_accuracy: 0.7375\n",
            "Epoch 148/150\n",
            "1250/1250 [==============================] - 14s 11ms/step - loss: 0.4080 - accuracy: 0.8587 - val_loss: 0.7999 - val_accuracy: 0.7410\n",
            "Epoch 149/150\n",
            "1250/1250 [==============================] - 14s 11ms/step - loss: 0.4044 - accuracy: 0.8583 - val_loss: 0.8063 - val_accuracy: 0.7351\n",
            "Epoch 150/150\n",
            "1250/1250 [==============================] - 14s 11ms/step - loss: 0.3922 - accuracy: 0.8641 - val_loss: 0.8022 - val_accuracy: 0.7370\n"
          ],
          "name": "stdout"
        }
      ]
    },
    {
      "cell_type": "code",
      "metadata": {
        "id": "TnX9K_B0pImI",
        "colab": {
          "base_uri": "https://localhost:8080/",
          "height": 312
        },
        "outputId": "333ca32f-6a7c-408a-8ca6-90a1e7f35686"
      },
      "source": [
        "# 8. Vẽ đồ thị loss, accuracy của traning set và validation set\n",
        "fig = plt.figure()\n",
        "\n",
        "plt.plot(np.arange(0, numOfEpoch), H.history['loss'], label='training loss')\n",
        "plt.plot(np.arange(0, numOfEpoch), H.history['val_loss'], label='validation loss')\n",
        "plt.title('Loss & Valid Loss  with Epoch')\n",
        "plt.xlabel('Epoch')\n",
        "plt.ylabel('Loss')\n",
        "plt.legend()"
      ],
      "execution_count": null,
      "outputs": [
        {
          "output_type": "execute_result",
          "data": {
            "text/plain": [
              "<matplotlib.legend.Legend at 0x7f5d2e10b210>"
            ]
          },
          "metadata": {
            "tags": []
          },
          "execution_count": 18
        },
        {
          "output_type": "display_data",
          "data": {
            "image/png": "[encoded data removed]",
            "text/plain": [
              "<Figure size 432x288 with 1 Axes>"
            ]
          },
          "metadata": {
            "tags": [],
            "needs_background": "light"
          }
        }
      ]
    },
    {
      "cell_type": "code",
      "metadata": {
        "id": "RQDK8jzdpIpc",
        "colab": {
          "base_uri": "https://localhost:8080/",
          "height": 312
        },
        "outputId": "fcb89a6c-e3e2-4c5e-d197-d3f82db22cb1"
      },
      "source": [
        "plt.plot(np.arange(0, numOfEpoch), H.history['accuracy'], label='accuracy')\n",
        "plt.plot(np.arange(0, numOfEpoch), H.history['val_accuracy'], label='validation accuracy')\n",
        "plt.title('Accuracy & Valid Accuracy with Epoch')\n",
        "plt.xlabel('Epoch')\n",
        "plt.ylabel('Accuracy')\n",
        "plt.legend()"
      ],
      "execution_count": null,
      "outputs": [
        {
          "output_type": "execute_result",
          "data": {
            "text/plain": [
              "<matplotlib.legend.Legend at 0x7f5d4450ffd0>"
            ]
          },
          "metadata": {
            "tags": []
          },
          "execution_count": 10
        },
        {
          "output_type": "display_data",
          "data": {
            "image/png": "[encoded data removed]",
            "text/plain": [
              "<Figure size 432x288 with 1 Axes>"
            ]
          },
          "metadata": {
            "tags": [],
            "needs_background": "light"
          }
        }
      ]
    },
    {
      "cell_type": "markdown",
      "metadata": {
        "id": "MgvQqMWYYuVp"
      },
      "source": [
        "### Cau 5: Tại sao khi build model, càng sâu thì width, height giảm nhưng depth tăng."
      ]
    },
    {
      "cell_type": "markdown",
      "metadata": {
        "id": "zXL-_JaBY0Dm"
      },
      "source": [
        "Ban đầu W, H lớn và Kernel nhỏ để dễ dàng detect được line và edge. Sau khi capture được edge/ line, ta cần capture thuộng tính của ảnh. Do feature của ảnh có pixel lớn, nên có 2 hướng:\n",
        "* Hướng thứ nhất là tăng kích thước kernel, đồng nghĩa với việc tăng parameter của layer làm cho tổng parameter của layers tăng và khối lượng tính toán đồ sộ.\n",
        "* Hướng thứ 2 là giảm pixel của W & H để giảm khối lượng tính toán (không cần thay kernel size) đồng thời dễ dàng capture được các thuộc tính lớn/ thuộc tính quan trọng của ảnh.\n",
        "* Theo tính toán thì depth của kernel = depth của output. Do t\n",
        "ăng depth của kernel ở những layer sau nên depth output cũng tăng. 1 ảnh màu có 3 channel RGB, tăng depth của kernel sẽ làm tăng độ sâu tương ứng với các kênh màu khác nhau của ảnh màu, 3 channel ảnh có thể được quy định theo lý thuyết, nhưng thực tế các màu này là tổ hợp các màu từ 0 - 255 nên có thể được coi là các channel riêng, việc tăng cường các channel riêng thì sẽ dễ nắm bắt các thuộc tính ảnh và cho độ chính xác cao hơn.  "
      ]
    },
    {
      "cell_type": "code",
      "metadata": {
        "id": "YVEMf5QxYxTC"
      },
      "source": [],
      "execution_count": null,
      "outputs": []
    }
  ]
}