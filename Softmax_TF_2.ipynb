{
  "nbformat": 4,
  "nbformat_minor": 0,
  "metadata": {
    "colab": {
      "name": "Softmax-TF.ipynb",
      "provenance": [],
      "collapsed_sections": [],
      "machine_shape": "hm"
    },
    "kernelspec": {
      "name": "python3",
      "display_name": "Python 3"
    },
    "language_info": {
      "name": "python"
    },
    "accelerator": "GPU",
    "gpuClass": "standard",
    "widgets": {
      "application/vnd.jupyter.widget-state+json": {
        "cbd64626ab2141c5b097f95e1c33d97a": {
          "model_module": "@jupyter-widgets/controls",
          "model_name": "HBoxModel",
          "model_module_version": "1.5.0",
          "state": {
            "_dom_classes": [],
            "_model_module": "@jupyter-widgets/controls",
            "_model_module_version": "1.5.0",
            "_model_name": "HBoxModel",
            "_view_count": null,
            "_view_module": "@jupyter-widgets/controls",
            "_view_module_version": "1.5.0",
            "_view_name": "HBoxView",
            "box_style": "",
            "children": [
              "IPY_MODEL_672cdd36a1d0412cace0ef056416a56f",
              "IPY_MODEL_56e2d0500f904d31a5f391e621abd95c",
              "IPY_MODEL_288832f9698a443a8d525c308071a23a"
            ],
            "layout": "IPY_MODEL_f0497d2f2e5e47cf9db94d419e4fe1f5"
          }
        },
        "672cdd36a1d0412cace0ef056416a56f": {
          "model_module": "@jupyter-widgets/controls",
          "model_name": "HTMLModel",
          "model_module_version": "1.5.0",
          "state": {
            "_dom_classes": [],
            "_model_module": "@jupyter-widgets/controls",
            "_model_module_version": "1.5.0",
            "_model_name": "HTMLModel",
            "_view_count": null,
            "_view_module": "@jupyter-widgets/controls",
            "_view_module_version": "1.5.0",
            "_view_name": "HTMLView",
            "description": "",
            "description_tooltip": null,
            "layout": "IPY_MODEL_e77422261dc44cc785874df5911afa1b",
            "placeholder": "​",
            "style": "IPY_MODEL_22f02e5bbbe94348be0e59cb9b2b1c80",
            "value": "Dl Completed...: 100%"
          }
        },
        "56e2d0500f904d31a5f391e621abd95c": {
          "model_module": "@jupyter-widgets/controls",
          "model_name": "FloatProgressModel",
          "model_module_version": "1.5.0",
          "state": {
            "_dom_classes": [],
            "_model_module": "@jupyter-widgets/controls",
            "_model_module_version": "1.5.0",
            "_model_name": "FloatProgressModel",
            "_view_count": null,
            "_view_module": "@jupyter-widgets/controls",
            "_view_module_version": "1.5.0",
            "_view_name": "ProgressView",
            "bar_style": "success",
            "description": "",
            "description_tooltip": null,
            "layout": "IPY_MODEL_e400d001d45d4ba8822f9c965dfef2db",
            "max": 4,
            "min": 0,
            "orientation": "horizontal",
            "style": "IPY_MODEL_f653d35c70474b799b8a4f2c7fd34da4",
            "value": 4
          }
        },
        "288832f9698a443a8d525c308071a23a": {
          "model_module": "@jupyter-widgets/controls",
          "model_name": "HTMLModel",
          "model_module_version": "1.5.0",
          "state": {
            "_dom_classes": [],
            "_model_module": "@jupyter-widgets/controls",
            "_model_module_version": "1.5.0",
            "_model_name": "HTMLModel",
            "_view_count": null,
            "_view_module": "@jupyter-widgets/controls",
            "_view_module_version": "1.5.0",
            "_view_name": "HTMLView",
            "description": "",
            "description_tooltip": null,
            "layout": "IPY_MODEL_53704216a7914b578dc5ff4018b47325",
            "placeholder": "​",
            "style": "IPY_MODEL_a49047d735044408acbf5d6200a10ecf",
            "value": " 4/4 [00:00&lt;00:00,  6.57 file/s]"
          }
        },
        "f0497d2f2e5e47cf9db94d419e4fe1f5": {
          "model_module": "@jupyter-widgets/base",
          "model_name": "LayoutModel",
          "model_module_version": "1.2.0",
          "state": {
            "_model_module": "@jupyter-widgets/base",
            "_model_module_version": "1.2.0",
            "_model_name": "LayoutModel",
            "_view_count": null,
            "_view_module": "@jupyter-widgets/base",
            "_view_module_version": "1.2.0",
            "_view_name": "LayoutView",
            "align_content": null,
            "align_items": null,
            "align_self": null,
            "border": null,
            "bottom": null,
            "display": null,
            "flex": null,
            "flex_flow": null,
            "grid_area": null,
            "grid_auto_columns": null,
            "grid_auto_flow": null,
            "grid_auto_rows": null,
            "grid_column": null,
            "grid_gap": null,
            "grid_row": null,
            "grid_template_areas": null,
            "grid_template_columns": null,
            "grid_template_rows": null,
            "height": null,
            "justify_content": null,
            "justify_items": null,
            "left": null,
            "margin": null,
            "max_height": null,
            "max_width": null,
            "min_height": null,
            "min_width": null,
            "object_fit": null,
            "object_position": null,
            "order": null,
            "overflow": null,
            "overflow_x": null,
            "overflow_y": null,
            "padding": null,
            "right": null,
            "top": null,
            "visibility": null,
            "width": null
          }
        },
        "e77422261dc44cc785874df5911afa1b": {
          "model_module": "@jupyter-widgets/base",
          "model_name": "LayoutModel",
          "model_module_version": "1.2.0",
          "state": {
            "_model_module": "@jupyter-widgets/base",
            "_model_module_version": "1.2.0",
            "_model_name": "LayoutModel",
            "_view_count": null,
            "_view_module": "@jupyter-widgets/base",
            "_view_module_version": "1.2.0",
            "_view_name": "LayoutView",
            "align_content": null,
            "align_items": null,
            "align_self": null,
            "border": null,
            "bottom": null,
            "display": null,
            "flex": null,
            "flex_flow": null,
            "grid_area": null,
            "grid_auto_columns": null,
            "grid_auto_flow": null,
            "grid_auto_rows": null,
            "grid_column": null,
            "grid_gap": null,
            "grid_row": null,
            "grid_template_areas": null,
            "grid_template_columns": null,
            "grid_template_rows": null,
            "height": null,
            "justify_content": null,
            "justify_items": null,
            "left": null,
            "margin": null,
            "max_height": null,
            "max_width": null,
            "min_height": null,
            "min_width": null,
            "object_fit": null,
            "object_position": null,
            "order": null,
            "overflow": null,
            "overflow_x": null,
            "overflow_y": null,
            "padding": null,
            "right": null,
            "top": null,
            "visibility": null,
            "width": null
          }
        },
        "22f02e5bbbe94348be0e59cb9b2b1c80": {
          "model_module": "@jupyter-widgets/controls",
          "model_name": "DescriptionStyleModel",
          "model_module_version": "1.5.0",
          "state": {
            "_model_module": "@jupyter-widgets/controls",
            "_model_module_version": "1.5.0",
            "_model_name": "DescriptionStyleModel",
            "_view_count": null,
            "_view_module": "@jupyter-widgets/base",
            "_view_module_version": "1.2.0",
            "_view_name": "StyleView",
            "description_width": ""
          }
        },
        "e400d001d45d4ba8822f9c965dfef2db": {
          "model_module": "@jupyter-widgets/base",
          "model_name": "LayoutModel",
          "model_module_version": "1.2.0",
          "state": {
            "_model_module": "@jupyter-widgets/base",
            "_model_module_version": "1.2.0",
            "_model_name": "LayoutModel",
            "_view_count": null,
            "_view_module": "@jupyter-widgets/base",
            "_view_module_version": "1.2.0",
            "_view_name": "LayoutView",
            "align_content": null,
            "align_items": null,
            "align_self": null,
            "border": null,
            "bottom": null,
            "display": null,
            "flex": null,
            "flex_flow": null,
            "grid_area": null,
            "grid_auto_columns": null,
            "grid_auto_flow": null,
            "grid_auto_rows": null,
            "grid_column": null,
            "grid_gap": null,
            "grid_row": null,
            "grid_template_areas": null,
            "grid_template_columns": null,
            "grid_template_rows": null,
            "height": null,
            "justify_content": null,
            "justify_items": null,
            "left": null,
            "margin": null,
            "max_height": null,
            "max_width": null,
            "min_height": null,
            "min_width": null,
            "object_fit": null,
            "object_position": null,
            "order": null,
            "overflow": null,
            "overflow_x": null,
            "overflow_y": null,
            "padding": null,
            "right": null,
            "top": null,
            "visibility": null,
            "width": null
          }
        },
        "f653d35c70474b799b8a4f2c7fd34da4": {
          "model_module": "@jupyter-widgets/controls",
          "model_name": "ProgressStyleModel",
          "model_module_version": "1.5.0",
          "state": {
            "_model_module": "@jupyter-widgets/controls",
            "_model_module_version": "1.5.0",
            "_model_name": "ProgressStyleModel",
            "_view_count": null,
            "_view_module": "@jupyter-widgets/base",
            "_view_module_version": "1.2.0",
            "_view_name": "StyleView",
            "bar_color": null,
            "description_width": ""
          }
        },
        "53704216a7914b578dc5ff4018b47325": {
          "model_module": "@jupyter-widgets/base",
          "model_name": "LayoutModel",
          "model_module_version": "1.2.0",
          "state": {
            "_model_module": "@jupyter-widgets/base",
            "_model_module_version": "1.2.0",
            "_model_name": "LayoutModel",
            "_view_count": null,
            "_view_module": "@jupyter-widgets/base",
            "_view_module_version": "1.2.0",
            "_view_name": "LayoutView",
            "align_content": null,
            "align_items": null,
            "align_self": null,
            "border": null,
            "bottom": null,
            "display": null,
            "flex": null,
            "flex_flow": null,
            "grid_area": null,
            "grid_auto_columns": null,
            "grid_auto_flow": null,
            "grid_auto_rows": null,
            "grid_column": null,
            "grid_gap": null,
            "grid_row": null,
            "grid_template_areas": null,
            "grid_template_columns": null,
            "grid_template_rows": null,
            "height": null,
            "justify_content": null,
            "justify_items": null,
            "left": null,
            "margin": null,
            "max_height": null,
            "max_width": null,
            "min_height": null,
            "min_width": null,
            "object_fit": null,
            "object_position": null,
            "order": null,
            "overflow": null,
            "overflow_x": null,
            "overflow_y": null,
            "padding": null,
            "right": null,
            "top": null,
            "visibility": null,
            "width": null
          }
        },
        "a49047d735044408acbf5d6200a10ecf": {
          "model_module": "@jupyter-widgets/controls",
          "model_name": "DescriptionStyleModel",
          "model_module_version": "1.5.0",
          "state": {
            "_model_module": "@jupyter-widgets/controls",
            "_model_module_version": "1.5.0",
            "_model_name": "DescriptionStyleModel",
            "_view_count": null,
            "_view_module": "@jupyter-widgets/base",
            "_view_module_version": "1.2.0",
            "_view_name": "StyleView",
            "description_width": ""
          }
        }
      }
    }
  },
  "cells": [
    {
      "cell_type": "markdown",
      "metadata": {
        "id": "DtzcBCqGSr1Z"
      },
      "source": [
        "I. Tải dữ liệu"
      ]
    },
    {
      "cell_type": "markdown",
      "metadata": {
        "id": "I_ov6nhIUhuA"
      },
      "source": [
        "Chú ý: [Splitting API](https://www.tensorflow.org/datasets/splits)"
      ]
    },
    {
      "cell_type": "code",
      "metadata": {
        "id": "NFzXT0CnR3gk",
        "colab": {
          "base_uri": "https://localhost:8080/",
          "height": 194,
          "referenced_widgets": [
            "cbd64626ab2141c5b097f95e1c33d97a",
            "672cdd36a1d0412cace0ef056416a56f",
            "56e2d0500f904d31a5f391e621abd95c",
            "288832f9698a443a8d525c308071a23a",
            "f0497d2f2e5e47cf9db94d419e4fe1f5",
            "e77422261dc44cc785874df5911afa1b",
            "22f02e5bbbe94348be0e59cb9b2b1c80",
            "e400d001d45d4ba8822f9c965dfef2db",
            "f653d35c70474b799b8a4f2c7fd34da4",
            "53704216a7914b578dc5ff4018b47325",
            "a49047d735044408acbf5d6200a10ecf"
          ]
        },
        "outputId": "bf9a3f6c-6e1f-492a-c848-67cb4a9f8e58"
      },
      "source": [
        "import tensorflow_datasets as tfds\n",
        "\n",
        "(ds_train, ds_val), ds_info  = tfds.load('mnist', split=['train', 'test'], as_supervised=True, with_info=True)"
      ],
      "execution_count": 1,
      "outputs": [
        {
          "output_type": "stream",
          "name": "stdout",
          "text": [
            "\u001b[1mDownloading and preparing dataset mnist/3.0.1 (download: 11.06 MiB, generated: 21.00 MiB, total: 32.06 MiB) to /root/tensorflow_datasets/mnist/3.0.1...\u001b[0m\n"
          ]
        },
        {
          "output_type": "stream",
          "name": "stderr",
          "text": [
            "WARNING:absl:Dataset mnist is hosted on GCS. It will automatically be downloaded to your\n",
            "local data directory. If you'd instead prefer to read directly from our public\n",
            "GCS bucket (recommended if you're running on GCP), you can instead pass\n",
            "`try_gcs=True` to `tfds.load` or set `data_dir=gs://tfds-data/datasets`.\n",
            "\n"
          ]
        },
        {
          "output_type": "display_data",
          "data": {
            "text/plain": [
              "Dl Completed...:   0%|          | 0/4 [00:00<?, ? file/s]"
            ],
            "application/vnd.jupyter.widget-view+json": {
              "version_major": 2,
              "version_minor": 0,
              "model_id": "cbd64626ab2141c5b097f95e1c33d97a"
            }
          },
          "metadata": {}
        },
        {
          "output_type": "stream",
          "name": "stdout",
          "text": [
            "\n",
            "\u001b[1mDataset mnist downloaded and prepared to /root/tensorflow_datasets/mnist/3.0.1. Subsequent calls will reuse this data.\u001b[0m\n"
          ]
        }
      ]
    },
    {
      "cell_type": "markdown",
      "metadata": {
        "id": "HeIeBj5pTTgZ"
      },
      "source": [
        "II. Hiển thị vài samples"
      ]
    },
    {
      "cell_type": "code",
      "metadata": {
        "colab": {
          "base_uri": "https://localhost:8080/"
        },
        "id": "3gVuz3UoU-8_",
        "outputId": "b1984fb6-6ebc-4140-c02d-ee3039a716bb"
      },
      "source": [
        "ds_train"
      ],
      "execution_count": 2,
      "outputs": [
        {
          "output_type": "execute_result",
          "data": {
            "text/plain": [
              "<PrefetchDataset element_spec=(TensorSpec(shape=(28, 28, 1), dtype=tf.uint8, name=None), TensorSpec(shape=(), dtype=tf.int64, name=None))>"
            ]
          },
          "metadata": {},
          "execution_count": 2
        }
      ]
    },
    {
      "cell_type": "code",
      "source": [
        "list(ds_train.take(2))[0][0].shape"
      ],
      "metadata": {
        "colab": {
          "base_uri": "https://localhost:8080/"
        },
        "id": "9WrhPSZrNlYI",
        "outputId": "5b9fcbbb-6527-4a30-9c33-7e9bb2b8af92"
      },
      "execution_count": 7,
      "outputs": [
        {
          "output_type": "execute_result",
          "data": {
            "text/plain": [
              "TensorShape([28, 28, 1])"
            ]
          },
          "metadata": {},
          "execution_count": 7
        }
      ]
    },
    {
      "cell_type": "code",
      "metadata": {
        "colab": {
          "base_uri": "https://localhost:8080/"
        },
        "id": "yP7h0ywuKgdf",
        "outputId": "bb7d2d7d-169f-4ebb-c41a-df27d6e47848"
      },
      "source": [
        "list(ds_train.take(2))[0][1]"
      ],
      "execution_count": 8,
      "outputs": [
        {
          "output_type": "execute_result",
          "data": {
            "text/plain": [
              "<tf.Tensor: shape=(), dtype=int64, numpy=4>"
            ]
          },
          "metadata": {},
          "execution_count": 8
        }
      ]
    },
    {
      "cell_type": "markdown",
      "metadata": {
        "id": "39L2MDlDVRSe"
      },
      "source": [
        "Lấy một dữ liệu"
      ]
    },
    {
      "cell_type": "code",
      "metadata": {
        "colab": {
          "base_uri": "https://localhost:8080/",
          "height": 534
        },
        "id": "6WB-Kg18SF7P",
        "outputId": "9b472761-7741-4365-f7d4-159e88cd1a02"
      },
      "source": [
        "fig = tfds.show_examples(ds_train, ds_info)"
      ],
      "execution_count": 9,
      "outputs": [
        {
          "output_type": "display_data",
          "data": {
            "text/plain": [
              "<Figure size 648x648 with 9 Axes>"
            ],
            "image/png": "[encoded data removed]"
          },
          "metadata": {}
        }
      ]
    },
    {
      "cell_type": "markdown",
      "metadata": {
        "id": "45fz-TrQTaOC"
      },
      "source": [
        "III. In ma trận"
      ]
    },
    {
      "cell_type": "code",
      "metadata": {
        "id": "1KkkW49IVMHp"
      },
      "source": [
        "image, label = list(ds_train.take(1))[0]"
      ],
      "execution_count": 10,
      "outputs": []
    },
    {
      "cell_type": "code",
      "metadata": {
        "colab": {
          "base_uri": "https://localhost:8080/"
        },
        "id": "b-xqG0vw93ef",
        "outputId": "3baf6950-1b1d-4191-e990-68332281c857"
      },
      "source": [
        "image.shape"
      ],
      "execution_count": 11,
      "outputs": [
        {
          "output_type": "execute_result",
          "data": {
            "text/plain": [
              "TensorShape([28, 28, 1])"
            ]
          },
          "metadata": {},
          "execution_count": 11
        }
      ]
    },
    {
      "cell_type": "code",
      "metadata": {
        "colab": {
          "base_uri": "https://localhost:8080/"
        },
        "id": "ys-e_tW795Bj",
        "outputId": "a99bc01e-6e9c-4fd6-b7bc-1aa5c2727d75"
      },
      "source": [
        "label.numpy()"
      ],
      "execution_count": 12,
      "outputs": [
        {
          "output_type": "execute_result",
          "data": {
            "text/plain": [
              "4"
            ]
          },
          "metadata": {},
          "execution_count": 12
        }
      ]
    },
    {
      "cell_type": "code",
      "metadata": {
        "colab": {
          "base_uri": "https://localhost:8080/"
        },
        "id": "IUKb8cIMV6ig",
        "outputId": "674cf524-2706-4994-902f-87d1897bb5b2"
      },
      "source": [
        "ds_train.take(1)"
      ],
      "execution_count": null,
      "outputs": [
        {
          "output_type": "execute_result",
          "data": {
            "text/plain": [
              "<TakeDataset shapes: ((28, 28, 1), ()), types: (tf.uint8, tf.int64)>"
            ]
          },
          "metadata": {},
          "execution_count": 49
        }
      ]
    },
    {
      "cell_type": "markdown",
      "metadata": {
        "id": "nOowrAsdVz2u"
      },
      "source": [
        "IV. Chuẩn hóa dữ liệu"
      ]
    },
    {
      "cell_type": "markdown",
      "metadata": {
        "id": "OM2DPZfPZ8C5"
      },
      "source": [
        "Sử dụng hàm map lặp qua các điểm dữ liệu trong tf dataset để tiến hành chuẩn hóa"
      ]
    },
    {
      "cell_type": "code",
      "metadata": {
        "id": "5_jgV_0MVwP3"
      },
      "source": [
        "import tensorflow as tf\n",
        "\n",
        "def normalize(image, label):\n",
        "\n",
        "  # image = tf.image.resize(image, (size, size))\n",
        "  \n",
        "  # Chuẩn hóa ảnh\n",
        "  normalized_image = tf.cast(image, tf.float32) / 255.\n",
        "  \n",
        "  return normalized_image, label\n",
        "\n",
        "# Thực hiện trên bộ train\n",
        "\n",
        "ds_train = ds_train.map(normalize)\n",
        "ds_train = ds_train.batch(128)\n",
        "ds_train = ds_train.shuffle(100)\n",
        "\n",
        "# Thực hiện trên bộ validation\n",
        "\n",
        "ds_val = ds_val.map(normalize)\n",
        "ds_val = ds_val.batch(128)\n",
        "ds_val = ds_val.shuffle(100)\n"
      ],
      "execution_count": 13,
      "outputs": []
    },
    {
      "cell_type": "code",
      "metadata": {
        "id": "6wtHU-2mHQPn",
        "colab": {
          "base_uri": "https://localhost:8080/"
        },
        "outputId": "40119b32-8bfd-4ac5-cfe8-d8f5d2ece0fd"
      },
      "source": [
        "list(ds_train.take(1))"
      ],
      "execution_count": 15,
      "outputs": [
        {
          "output_type": "execute_result",
          "data": {
            "text/plain": [
              "[(<tf.Tensor: shape=(128, 28, 28, 1), dtype=float32, numpy=\n",
              "  array([[[[0.],\n",
              "           [0.],\n",
              "           [0.],\n",
              "           ...,\n",
              "           [0.],\n",
              "           [0.],\n",
              "           [0.]],\n",
              "  \n",
              "          [[0.],\n",
              "           [0.],\n",
              "           [0.],\n",
              "           ...,\n",
              "           [0.],\n",
              "           [0.],\n",
              "           [0.]],\n",
              "  \n",
              "          [[0.],\n",
              "           [0.],\n",
              "           [0.],\n",
              "           ...,\n",
              "           [0.],\n",
              "           [0.],\n",
              "           [0.]],\n",
              "  \n",
              "          ...,\n",
              "  \n",
              "          [[0.],\n",
              "           [0.],\n",
              "           [0.],\n",
              "           ...,\n",
              "           [0.],\n",
              "           [0.],\n",
              "           [0.]],\n",
              "  \n",
              "          [[0.],\n",
              "           [0.],\n",
              "           [0.],\n",
              "           ...,\n",
              "           [0.],\n",
              "           [0.],\n",
              "           [0.]],\n",
              "  \n",
              "          [[0.],\n",
              "           [0.],\n",
              "           [0.],\n",
              "           ...,\n",
              "           [0.],\n",
              "           [0.],\n",
              "           [0.]]],\n",
              "  \n",
              "  \n",
              "         [[[0.],\n",
              "           [0.],\n",
              "           [0.],\n",
              "           ...,\n",
              "           [0.],\n",
              "           [0.],\n",
              "           [0.]],\n",
              "  \n",
              "          [[0.],\n",
              "           [0.],\n",
              "           [0.],\n",
              "           ...,\n",
              "           [0.],\n",
              "           [0.],\n",
              "           [0.]],\n",
              "  \n",
              "          [[0.],\n",
              "           [0.],\n",
              "           [0.],\n",
              "           ...,\n",
              "           [0.],\n",
              "           [0.],\n",
              "           [0.]],\n",
              "  \n",
              "          ...,\n",
              "  \n",
              "          [[0.],\n",
              "           [0.],\n",
              "           [0.],\n",
              "           ...,\n",
              "           [0.],\n",
              "           [0.],\n",
              "           [0.]],\n",
              "  \n",
              "          [[0.],\n",
              "           [0.],\n",
              "           [0.],\n",
              "           ...,\n",
              "           [0.],\n",
              "           [0.],\n",
              "           [0.]],\n",
              "  \n",
              "          [[0.],\n",
              "           [0.],\n",
              "           [0.],\n",
              "           ...,\n",
              "           [0.],\n",
              "           [0.],\n",
              "           [0.]]],\n",
              "  \n",
              "  \n",
              "         [[[0.],\n",
              "           [0.],\n",
              "           [0.],\n",
              "           ...,\n",
              "           [0.],\n",
              "           [0.],\n",
              "           [0.]],\n",
              "  \n",
              "          [[0.],\n",
              "           [0.],\n",
              "           [0.],\n",
              "           ...,\n",
              "           [0.],\n",
              "           [0.],\n",
              "           [0.]],\n",
              "  \n",
              "          [[0.],\n",
              "           [0.],\n",
              "           [0.],\n",
              "           ...,\n",
              "           [0.],\n",
              "           [0.],\n",
              "           [0.]],\n",
              "  \n",
              "          ...,\n",
              "  \n",
              "          [[0.],\n",
              "           [0.],\n",
              "           [0.],\n",
              "           ...,\n",
              "           [0.],\n",
              "           [0.],\n",
              "           [0.]],\n",
              "  \n",
              "          [[0.],\n",
              "           [0.],\n",
              "           [0.],\n",
              "           ...,\n",
              "           [0.],\n",
              "           [0.],\n",
              "           [0.]],\n",
              "  \n",
              "          [[0.],\n",
              "           [0.],\n",
              "           [0.],\n",
              "           ...,\n",
              "           [0.],\n",
              "           [0.],\n",
              "           [0.]]],\n",
              "  \n",
              "  \n",
              "         ...,\n",
              "  \n",
              "  \n",
              "         [[[0.],\n",
              "           [0.],\n",
              "           [0.],\n",
              "           ...,\n",
              "           [0.],\n",
              "           [0.],\n",
              "           [0.]],\n",
              "  \n",
              "          [[0.],\n",
              "           [0.],\n",
              "           [0.],\n",
              "           ...,\n",
              "           [0.],\n",
              "           [0.],\n",
              "           [0.]],\n",
              "  \n",
              "          [[0.],\n",
              "           [0.],\n",
              "           [0.],\n",
              "           ...,\n",
              "           [0.],\n",
              "           [0.],\n",
              "           [0.]],\n",
              "  \n",
              "          ...,\n",
              "  \n",
              "          [[0.],\n",
              "           [0.],\n",
              "           [0.],\n",
              "           ...,\n",
              "           [0.],\n",
              "           [0.],\n",
              "           [0.]],\n",
              "  \n",
              "          [[0.],\n",
              "           [0.],\n",
              "           [0.],\n",
              "           ...,\n",
              "           [0.],\n",
              "           [0.],\n",
              "           [0.]],\n",
              "  \n",
              "          [[0.],\n",
              "           [0.],\n",
              "           [0.],\n",
              "           ...,\n",
              "           [0.],\n",
              "           [0.],\n",
              "           [0.]]],\n",
              "  \n",
              "  \n",
              "         [[[0.],\n",
              "           [0.],\n",
              "           [0.],\n",
              "           ...,\n",
              "           [0.],\n",
              "           [0.],\n",
              "           [0.]],\n",
              "  \n",
              "          [[0.],\n",
              "           [0.],\n",
              "           [0.],\n",
              "           ...,\n",
              "           [0.],\n",
              "           [0.],\n",
              "           [0.]],\n",
              "  \n",
              "          [[0.],\n",
              "           [0.],\n",
              "           [0.],\n",
              "           ...,\n",
              "           [0.],\n",
              "           [0.],\n",
              "           [0.]],\n",
              "  \n",
              "          ...,\n",
              "  \n",
              "          [[0.],\n",
              "           [0.],\n",
              "           [0.],\n",
              "           ...,\n",
              "           [0.],\n",
              "           [0.],\n",
              "           [0.]],\n",
              "  \n",
              "          [[0.],\n",
              "           [0.],\n",
              "           [0.],\n",
              "           ...,\n",
              "           [0.],\n",
              "           [0.],\n",
              "           [0.]],\n",
              "  \n",
              "          [[0.],\n",
              "           [0.],\n",
              "           [0.],\n",
              "           ...,\n",
              "           [0.],\n",
              "           [0.],\n",
              "           [0.]]],\n",
              "  \n",
              "  \n",
              "         [[[0.],\n",
              "           [0.],\n",
              "           [0.],\n",
              "           ...,\n",
              "           [0.],\n",
              "           [0.],\n",
              "           [0.]],\n",
              "  \n",
              "          [[0.],\n",
              "           [0.],\n",
              "           [0.],\n",
              "           ...,\n",
              "           [0.],\n",
              "           [0.],\n",
              "           [0.]],\n",
              "  \n",
              "          [[0.],\n",
              "           [0.],\n",
              "           [0.],\n",
              "           ...,\n",
              "           [0.],\n",
              "           [0.],\n",
              "           [0.]],\n",
              "  \n",
              "          ...,\n",
              "  \n",
              "          [[0.],\n",
              "           [0.],\n",
              "           [0.],\n",
              "           ...,\n",
              "           [0.],\n",
              "           [0.],\n",
              "           [0.]],\n",
              "  \n",
              "          [[0.],\n",
              "           [0.],\n",
              "           [0.],\n",
              "           ...,\n",
              "           [0.],\n",
              "           [0.],\n",
              "           [0.]],\n",
              "  \n",
              "          [[0.],\n",
              "           [0.],\n",
              "           [0.],\n",
              "           ...,\n",
              "           [0.],\n",
              "           [0.],\n",
              "           [0.]]]], dtype=float32)>,\n",
              "  <tf.Tensor: shape=(128,), dtype=int64, numpy=\n",
              "  array([3, 2, 7, 3, 3, 8, 5, 6, 6, 0, 8, 8, 1, 8, 4, 0, 8, 0, 5, 2, 5, 1,\n",
              "         8, 8, 1, 8, 5, 9, 6, 9, 5, 1, 7, 2, 4, 5, 0, 3, 0, 4, 7, 4, 3, 4,\n",
              "         4, 8, 3, 1, 0, 4, 0, 2, 2, 7, 5, 8, 9, 5, 4, 8, 8, 8, 6, 7, 0, 9,\n",
              "         9, 9, 2, 5, 6, 7, 2, 7, 2, 5, 1, 0, 9, 2, 3, 7, 7, 6, 3, 9, 0, 1,\n",
              "         5, 3, 5, 7, 6, 2, 1, 1, 8, 8, 1, 9, 8, 9, 0, 5, 1, 3, 9, 5, 4, 5,\n",
              "         6, 1, 0, 5, 1, 4, 6, 7, 4, 4, 6, 7, 5, 6, 7, 3, 5, 8])>)]"
            ]
          },
          "metadata": {},
          "execution_count": 15
        }
      ]
    },
    {
      "cell_type": "markdown",
      "metadata": {
        "id": "WAxZ2m1yYNdM"
      },
      "source": [
        "V. Xây dựng mô hình"
      ]
    },
    {
      "cell_type": "code",
      "metadata": {
        "id": "msvVMb0GY4ci",
        "colab": {
          "base_uri": "https://localhost:8080/"
        },
        "outputId": "c5716d7a-bb4c-49c5-e727-f1f0e3f947b3"
      },
      "source": [
        "ds_info"
      ],
      "execution_count": 16,
      "outputs": [
        {
          "output_type": "execute_result",
          "data": {
            "text/plain": [
              "tfds.core.DatasetInfo(\n",
              "    name='mnist',\n",
              "    version=3.0.1,\n",
              "    description='The MNIST database of handwritten digits.',\n",
              "    homepage='http://yann.lecun.com/exdb/mnist/',\n",
              "    features=FeaturesDict({\n",
              "        'image': Image(shape=(28, 28, 1), dtype=tf.uint8),\n",
              "        'label': ClassLabel(shape=(), dtype=tf.int64, num_classes=10),\n",
              "    }),\n",
              "    total_num_examples=70000,\n",
              "    splits={\n",
              "        'test': 10000,\n",
              "        'train': 60000,\n",
              "    },\n",
              "    supervised_keys=('image', 'label'),\n",
              "    citation=\"\"\"@article{lecun2010mnist,\n",
              "      title={MNIST handwritten digit database},\n",
              "      author={LeCun, Yann and Cortes, Corinna and Burges, CJ},\n",
              "      journal={ATT Labs [Online]. Available: http://yann.lecun.com/exdb/mnist},\n",
              "      volume={2},\n",
              "      year={2010}\n",
              "    }\"\"\",\n",
              "    redistribution_info=,\n",
              ")"
            ]
          },
          "metadata": {},
          "execution_count": 16
        }
      ]
    },
    {
      "cell_type": "markdown",
      "metadata": {
        "id": "Sc2FssasZIYK"
      },
      "source": [
        "Lấy số lượng nhãn từ tensorflow dataset infor"
      ]
    },
    {
      "cell_type": "code",
      "metadata": {
        "id": "t73pzDIdYslH"
      },
      "source": [
        "num_classes = ds_info.features['label'].num_classes"
      ],
      "execution_count": 17,
      "outputs": []
    },
    {
      "cell_type": "code",
      "metadata": {
        "colab": {
          "base_uri": "https://localhost:8080/"
        },
        "id": "G00-pznMZBxk",
        "outputId": "6e135042-ec4b-4d8c-8f46-1874a2391149"
      },
      "source": [
        "num_classes"
      ],
      "execution_count": 18,
      "outputs": [
        {
          "output_type": "execute_result",
          "data": {
            "text/plain": [
              "10"
            ]
          },
          "metadata": {},
          "execution_count": 18
        }
      ]
    },
    {
      "cell_type": "code",
      "metadata": {
        "id": "v2TLgdwIXqJW",
        "colab": {
          "base_uri": "https://localhost:8080/"
        },
        "outputId": "eb58a20a-6f43-4ed7-85ce-b2ea344222d1"
      },
      "source": [
        "model = tf.keras.models.Sequential([\n",
        "  tf.keras.layers.Flatten(input_shape=(28, 28)),\n",
        "  tf.keras.layers.Dense(10, activation='softmax')\n",
        "])\n",
        "model.compile(\n",
        "    optimizer=tf.keras.optimizers.SGD(0.001),\n",
        "    loss='sparse_categorical_crossentropy',\n",
        "    metrics=[tf.keras.metrics.SparseCategoricalAccuracy()],\n",
        ")\n",
        "\n",
        "model.summary()\n",
        "\n"
      ],
      "execution_count": 20,
      "outputs": [
        {
          "output_type": "stream",
          "name": "stdout",
          "text": [
            "Model: \"sequential\"\n",
            "_________________________________________________________________\n",
            " Layer (type)                Output Shape              Param #   \n",
            "=================================================================\n",
            " flatten (Flatten)           (None, 784)               0         \n",
            "                                                                 \n",
            " dense (Dense)               (None, 10)                7850      \n",
            "                                                                 \n",
            "=================================================================\n",
            "Total params: 7,850\n",
            "Trainable params: 7,850\n",
            "Non-trainable params: 0\n",
            "_________________________________________________________________\n"
          ]
        }
      ]
    },
    {
      "cell_type": "code",
      "metadata": {
        "colab": {
          "base_uri": "https://localhost:8080/"
        },
        "id": "0DVZqdJueKVx",
        "outputId": "50b7dfa8-5b0e-4bdb-db1a-d89ea9919238"
      },
      "source": [
        "model.fit(\n",
        "    ds_train,\n",
        "    epochs=100,\n",
        "    validation_data=ds_val,\n",
        ")"
      ],
      "execution_count": null,
      "outputs": [
        {
          "output_type": "stream",
          "name": "stdout",
          "text": [
            "Epoch 1/100\n",
            "469/469 [==============================] - 9s 12ms/step - loss: 2.1200 - sparse_categorical_accuracy: 0.2701 - val_loss: 1.9027 - val_sparse_categorical_accuracy: 0.4622\n",
            "Epoch 2/100\n",
            "469/469 [==============================] - 3s 5ms/step - loss: 1.7559 - sparse_categorical_accuracy: 0.5580 - val_loss: 1.5968 - val_sparse_categorical_accuracy: 0.6503\n",
            "Epoch 3/100\n",
            "469/469 [==============================] - 3s 5ms/step - loss: 1.5024 - sparse_categorical_accuracy: 0.6801 - val_loss: 1.3807 - val_sparse_categorical_accuracy: 0.7260\n",
            "Epoch 4/100\n",
            "469/469 [==============================] - 3s 5ms/step - loss: 1.3210 - sparse_categorical_accuracy: 0.7353 - val_loss: 1.2244 - val_sparse_categorical_accuracy: 0.7632\n",
            "Epoch 5/100\n",
            "469/469 [==============================] - 3s 5ms/step - loss: 1.1878 - sparse_categorical_accuracy: 0.7657 - val_loss: 1.1082 - val_sparse_categorical_accuracy: 0.7878\n",
            "Epoch 6/100\n",
            "469/469 [==============================] - 3s 5ms/step - loss: 1.0869 - sparse_categorical_accuracy: 0.7852 - val_loss: 1.0191 - val_sparse_categorical_accuracy: 0.8030\n",
            "Epoch 7/100\n",
            "469/469 [==============================] - 4s 7ms/step - loss: 1.0084 - sparse_categorical_accuracy: 0.7994 - val_loss: 0.9488 - val_sparse_categorical_accuracy: 0.8143\n",
            "Epoch 8/100\n",
            "469/469 [==============================] - 3s 6ms/step - loss: 0.9456 - sparse_categorical_accuracy: 0.8099 - val_loss: 0.8921 - val_sparse_categorical_accuracy: 0.8228\n",
            "Epoch 9/100\n",
            "469/469 [==============================] - 3s 6ms/step - loss: 0.8944 - sparse_categorical_accuracy: 0.8184 - val_loss: 0.8454 - val_sparse_categorical_accuracy: 0.8307\n",
            "Epoch 10/100\n",
            "469/469 [==============================] - 3s 5ms/step - loss: 0.8517 - sparse_categorical_accuracy: 0.8245 - val_loss: 0.8062 - val_sparse_categorical_accuracy: 0.8349\n",
            "Epoch 11/100\n",
            "469/469 [==============================] - 3s 5ms/step - loss: 0.8155 - sparse_categorical_accuracy: 0.8292 - val_loss: 0.7729 - val_sparse_categorical_accuracy: 0.8400\n",
            "Epoch 12/100\n",
            "469/469 [==============================] - 3s 5ms/step - loss: 0.7845 - sparse_categorical_accuracy: 0.8339 - val_loss: 0.7441 - val_sparse_categorical_accuracy: 0.8446\n",
            "Epoch 13/100\n",
            "469/469 [==============================] - 3s 5ms/step - loss: 0.7576 - sparse_categorical_accuracy: 0.8377 - val_loss: 0.7190 - val_sparse_categorical_accuracy: 0.8479\n",
            "Epoch 14/100\n",
            "469/469 [==============================] - 3s 5ms/step - loss: 0.7340 - sparse_categorical_accuracy: 0.8408 - val_loss: 0.6969 - val_sparse_categorical_accuracy: 0.8505\n",
            "Epoch 15/100\n",
            "469/469 [==============================] - 3s 5ms/step - loss: 0.7131 - sparse_categorical_accuracy: 0.8439 - val_loss: 0.6773 - val_sparse_categorical_accuracy: 0.8536\n",
            "Epoch 16/100\n",
            "469/469 [==============================] - 3s 5ms/step - loss: 0.6945 - sparse_categorical_accuracy: 0.8461 - val_loss: 0.6598 - val_sparse_categorical_accuracy: 0.8571\n",
            "Epoch 17/100\n",
            "469/469 [==============================] - 3s 5ms/step - loss: 0.6777 - sparse_categorical_accuracy: 0.8487 - val_loss: 0.6440 - val_sparse_categorical_accuracy: 0.8595\n",
            "Epoch 18/100\n",
            "469/469 [==============================] - 3s 5ms/step - loss: 0.6626 - sparse_categorical_accuracy: 0.8507 - val_loss: 0.6297 - val_sparse_categorical_accuracy: 0.8606\n",
            "Epoch 19/100\n",
            "469/469 [==============================] - 3s 7ms/step - loss: 0.6488 - sparse_categorical_accuracy: 0.8528 - val_loss: 0.6166 - val_sparse_categorical_accuracy: 0.8621\n",
            "Epoch 20/100\n",
            "469/469 [==============================] - 3s 5ms/step - loss: 0.6362 - sparse_categorical_accuracy: 0.8542 - val_loss: 0.6047 - val_sparse_categorical_accuracy: 0.8631\n",
            "Epoch 21/100\n",
            "469/469 [==============================] - 3s 5ms/step - loss: 0.6247 - sparse_categorical_accuracy: 0.8558 - val_loss: 0.5937 - val_sparse_categorical_accuracy: 0.8639\n",
            "Epoch 22/100\n",
            "469/469 [==============================] - 3s 5ms/step - loss: 0.6140 - sparse_categorical_accuracy: 0.8572 - val_loss: 0.5836 - val_sparse_categorical_accuracy: 0.8650\n",
            "Epoch 23/100\n",
            "469/469 [==============================] - 3s 5ms/step - loss: 0.6042 - sparse_categorical_accuracy: 0.8584 - val_loss: 0.5742 - val_sparse_categorical_accuracy: 0.8654\n",
            "Epoch 24/100\n",
            "469/469 [==============================] - 3s 5ms/step - loss: 0.5950 - sparse_categorical_accuracy: 0.8597 - val_loss: 0.5655 - val_sparse_categorical_accuracy: 0.8672\n",
            "Epoch 25/100\n",
            "469/469 [==============================] - 3s 5ms/step - loss: 0.5865 - sparse_categorical_accuracy: 0.8609 - val_loss: 0.5573 - val_sparse_categorical_accuracy: 0.8681\n",
            "Epoch 26/100\n",
            "469/469 [==============================] - 3s 5ms/step - loss: 0.5786 - sparse_categorical_accuracy: 0.8622 - val_loss: 0.5497 - val_sparse_categorical_accuracy: 0.8694\n",
            "Epoch 27/100\n",
            "469/469 [==============================] - 3s 5ms/step - loss: 0.5711 - sparse_categorical_accuracy: 0.8632 - val_loss: 0.5426 - val_sparse_categorical_accuracy: 0.8702\n",
            "Epoch 28/100\n",
            "469/469 [==============================] - 3s 5ms/step - loss: 0.5641 - sparse_categorical_accuracy: 0.8640 - val_loss: 0.5359 - val_sparse_categorical_accuracy: 0.8715\n",
            "Epoch 29/100\n",
            "469/469 [==============================] - 3s 5ms/step - loss: 0.5575 - sparse_categorical_accuracy: 0.8649 - val_loss: 0.5296 - val_sparse_categorical_accuracy: 0.8726\n",
            "Epoch 30/100\n",
            "469/469 [==============================] - 3s 5ms/step - loss: 0.5513 - sparse_categorical_accuracy: 0.8658 - val_loss: 0.5236 - val_sparse_categorical_accuracy: 0.8732\n",
            "Epoch 31/100\n",
            "469/469 [==============================] - 3s 5ms/step - loss: 0.5454 - sparse_categorical_accuracy: 0.8667 - val_loss: 0.5180 - val_sparse_categorical_accuracy: 0.8740\n",
            "Epoch 32/100\n",
            "469/469 [==============================] - 3s 5ms/step - loss: 0.5399 - sparse_categorical_accuracy: 0.8675 - val_loss: 0.5127 - val_sparse_categorical_accuracy: 0.8750\n",
            "Epoch 33/100\n",
            "469/469 [==============================] - 3s 5ms/step - loss: 0.5346 - sparse_categorical_accuracy: 0.8681 - val_loss: 0.5076 - val_sparse_categorical_accuracy: 0.8757\n",
            "Epoch 34/100\n",
            "469/469 [==============================] - 3s 5ms/step - loss: 0.5296 - sparse_categorical_accuracy: 0.8689 - val_loss: 0.5028 - val_sparse_categorical_accuracy: 0.8765\n",
            "Epoch 35/100\n",
            "469/469 [==============================] - 3s 5ms/step - loss: 0.5248 - sparse_categorical_accuracy: 0.8697 - val_loss: 0.4983 - val_sparse_categorical_accuracy: 0.8776\n",
            "Epoch 36/100\n",
            "469/469 [==============================] - 3s 5ms/step - loss: 0.5203 - sparse_categorical_accuracy: 0.8705 - val_loss: 0.4939 - val_sparse_categorical_accuracy: 0.8784\n",
            "Epoch 37/100\n",
            "469/469 [==============================] - 3s 5ms/step - loss: 0.5159 - sparse_categorical_accuracy: 0.8708 - val_loss: 0.4897 - val_sparse_categorical_accuracy: 0.8793\n",
            "Epoch 38/100\n",
            "469/469 [==============================] - 3s 5ms/step - loss: 0.5118 - sparse_categorical_accuracy: 0.8715 - val_loss: 0.4858 - val_sparse_categorical_accuracy: 0.8797\n",
            "Epoch 39/100\n",
            "469/469 [==============================] - 3s 5ms/step - loss: 0.5078 - sparse_categorical_accuracy: 0.8724 - val_loss: 0.4820 - val_sparse_categorical_accuracy: 0.8802\n",
            "Epoch 40/100\n",
            "469/469 [==============================] - 3s 5ms/step - loss: 0.5040 - sparse_categorical_accuracy: 0.8731 - val_loss: 0.4783 - val_sparse_categorical_accuracy: 0.8805\n",
            "Epoch 41/100\n",
            "469/469 [==============================] - 3s 5ms/step - loss: 0.5004 - sparse_categorical_accuracy: 0.8735 - val_loss: 0.4748 - val_sparse_categorical_accuracy: 0.8813\n",
            "Epoch 42/100\n",
            "469/469 [==============================] - 3s 5ms/step - loss: 0.4969 - sparse_categorical_accuracy: 0.8742 - val_loss: 0.4715 - val_sparse_categorical_accuracy: 0.8815\n",
            "Epoch 43/100\n",
            "469/469 [==============================] - 3s 5ms/step - loss: 0.4935 - sparse_categorical_accuracy: 0.8746 - val_loss: 0.4682 - val_sparse_categorical_accuracy: 0.8821\n",
            "Epoch 44/100\n",
            "469/469 [==============================] - 3s 5ms/step - loss: 0.4903 - sparse_categorical_accuracy: 0.8752 - val_loss: 0.4651 - val_sparse_categorical_accuracy: 0.8822\n",
            "Epoch 45/100\n",
            "469/469 [==============================] - 3s 5ms/step - loss: 0.4872 - sparse_categorical_accuracy: 0.8758 - val_loss: 0.4621 - val_sparse_categorical_accuracy: 0.8828\n",
            "Epoch 46/100\n",
            "469/469 [==============================] - 3s 5ms/step - loss: 0.4842 - sparse_categorical_accuracy: 0.8762 - val_loss: 0.4593 - val_sparse_categorical_accuracy: 0.8834\n",
            "Epoch 47/100\n",
            "469/469 [==============================] - 3s 5ms/step - loss: 0.4813 - sparse_categorical_accuracy: 0.8766 - val_loss: 0.4565 - val_sparse_categorical_accuracy: 0.8839\n",
            "Epoch 48/100\n",
            "469/469 [==============================] - 3s 5ms/step - loss: 0.4785 - sparse_categorical_accuracy: 0.8772 - val_loss: 0.4538 - val_sparse_categorical_accuracy: 0.8846\n",
            "Epoch 49/100\n",
            "469/469 [==============================] - 3s 5ms/step - loss: 0.4758 - sparse_categorical_accuracy: 0.8778 - val_loss: 0.4512 - val_sparse_categorical_accuracy: 0.8849\n",
            "Epoch 50/100\n",
            "469/469 [==============================] - 3s 5ms/step - loss: 0.4732 - sparse_categorical_accuracy: 0.8782 - val_loss: 0.4487 - val_sparse_categorical_accuracy: 0.8856\n",
            "Epoch 51/100\n",
            "469/469 [==============================] - 3s 5ms/step - loss: 0.4706 - sparse_categorical_accuracy: 0.8786 - val_loss: 0.4463 - val_sparse_categorical_accuracy: 0.8858\n",
            "Epoch 52/100\n",
            "469/469 [==============================] - 3s 5ms/step - loss: 0.4682 - sparse_categorical_accuracy: 0.8792 - val_loss: 0.4439 - val_sparse_categorical_accuracy: 0.8863\n",
            "Epoch 53/100\n",
            "469/469 [==============================] - 3s 5ms/step - loss: 0.4658 - sparse_categorical_accuracy: 0.8794 - val_loss: 0.4417 - val_sparse_categorical_accuracy: 0.8865\n",
            "Epoch 54/100\n",
            "469/469 [==============================] - 3s 5ms/step - loss: 0.4635 - sparse_categorical_accuracy: 0.8798 - val_loss: 0.4395 - val_sparse_categorical_accuracy: 0.8870\n",
            "Epoch 55/100\n",
            "469/469 [==============================] - 3s 5ms/step - loss: 0.4613 - sparse_categorical_accuracy: 0.8801 - val_loss: 0.4373 - val_sparse_categorical_accuracy: 0.8872\n",
            "Epoch 56/100\n",
            "469/469 [==============================] - 4s 7ms/step - loss: 0.4591 - sparse_categorical_accuracy: 0.8803 - val_loss: 0.4353 - val_sparse_categorical_accuracy: 0.8879\n",
            "Epoch 57/100\n",
            "469/469 [==============================] - 3s 5ms/step - loss: 0.4570 - sparse_categorical_accuracy: 0.8810 - val_loss: 0.4332 - val_sparse_categorical_accuracy: 0.8883\n",
            "Epoch 58/100\n",
            "469/469 [==============================] - 3s 5ms/step - loss: 0.4550 - sparse_categorical_accuracy: 0.8813 - val_loss: 0.4313 - val_sparse_categorical_accuracy: 0.8888\n",
            "Epoch 59/100\n",
            "469/469 [==============================] - 3s 5ms/step - loss: 0.4530 - sparse_categorical_accuracy: 0.8816 - val_loss: 0.4294 - val_sparse_categorical_accuracy: 0.8893\n",
            "Epoch 60/100\n",
            "469/469 [==============================] - 3s 5ms/step - loss: 0.4511 - sparse_categorical_accuracy: 0.8819 - val_loss: 0.4276 - val_sparse_categorical_accuracy: 0.8894\n",
            "Epoch 61/100\n",
            "469/469 [==============================] - 3s 5ms/step - loss: 0.4492 - sparse_categorical_accuracy: 0.8822 - val_loss: 0.4257 - val_sparse_categorical_accuracy: 0.8898\n",
            "Epoch 62/100\n",
            "469/469 [==============================] - 3s 5ms/step - loss: 0.4474 - sparse_categorical_accuracy: 0.8826 - val_loss: 0.4240 - val_sparse_categorical_accuracy: 0.8901\n",
            "Epoch 63/100\n",
            "469/469 [==============================] - 3s 5ms/step - loss: 0.4456 - sparse_categorical_accuracy: 0.8830 - val_loss: 0.4223 - val_sparse_categorical_accuracy: 0.8904\n",
            "Epoch 64/100\n",
            "469/469 [==============================] - 3s 5ms/step - loss: 0.4438 - sparse_categorical_accuracy: 0.8832 - val_loss: 0.4206 - val_sparse_categorical_accuracy: 0.8904\n",
            "Epoch 65/100\n",
            "469/469 [==============================] - 3s 5ms/step - loss: 0.4421 - sparse_categorical_accuracy: 0.8836 - val_loss: 0.4190 - val_sparse_categorical_accuracy: 0.8908\n",
            "Epoch 66/100\n",
            "469/469 [==============================] - 3s 5ms/step - loss: 0.4405 - sparse_categorical_accuracy: 0.8840 - val_loss: 0.4174 - val_sparse_categorical_accuracy: 0.8911\n",
            "Epoch 67/100\n",
            "469/469 [==============================] - 3s 5ms/step - loss: 0.4389 - sparse_categorical_accuracy: 0.8842 - val_loss: 0.4159 - val_sparse_categorical_accuracy: 0.8914\n",
            "Epoch 68/100\n",
            "469/469 [==============================] - 3s 5ms/step - loss: 0.4373 - sparse_categorical_accuracy: 0.8845 - val_loss: 0.4144 - val_sparse_categorical_accuracy: 0.8916\n",
            "Epoch 69/100\n",
            "469/469 [==============================] - 3s 5ms/step - loss: 0.4358 - sparse_categorical_accuracy: 0.8848 - val_loss: 0.4129 - val_sparse_categorical_accuracy: 0.8918\n",
            "Epoch 70/100\n",
            "469/469 [==============================] - 3s 5ms/step - loss: 0.4343 - sparse_categorical_accuracy: 0.8852 - val_loss: 0.4115 - val_sparse_categorical_accuracy: 0.8919\n",
            "Epoch 71/100\n",
            "469/469 [==============================] - 3s 5ms/step - loss: 0.4328 - sparse_categorical_accuracy: 0.8854 - val_loss: 0.4101 - val_sparse_categorical_accuracy: 0.8922\n",
            "Epoch 72/100\n",
            "469/469 [==============================] - 3s 5ms/step - loss: 0.4314 - sparse_categorical_accuracy: 0.8858 - val_loss: 0.4087 - val_sparse_categorical_accuracy: 0.8926\n",
            "Epoch 73/100\n",
            "202/469 [===========>..................] - ETA: 1s - loss: 0.4308 - sparse_categorical_accuracy: 0.8852"
          ]
        }
      ]
    },
    {
      "cell_type": "code",
      "metadata": {
        "id": "zSv-mJEBB9NV"
      },
      "source": [
        "model.save('mymodel.h5')"
      ],
      "execution_count": null,
      "outputs": []
    },
    {
      "cell_type": "code",
      "metadata": {
        "id": "tPlStrVVCQ9n"
      },
      "source": [
        ""
      ],
      "execution_count": null,
      "outputs": []
    }
  ]
}