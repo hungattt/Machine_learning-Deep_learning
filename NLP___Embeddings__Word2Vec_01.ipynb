{
  "nbformat": 4,
  "nbformat_minor": 0,
  "metadata": {
    "colab": {
      "provenance": []
    },
    "kernelspec": {
      "name": "python3",
      "display_name": "Python 3"
    },
    "language_info": {
      "name": "python"
    }
  },
  "cells": [
    {
      "cell_type": "code",
      "metadata": {
        "id": "U7PODscptCLl"
      },
      "source": [
        "import json\n",
        "import tensorflow as tf\n",
        "\n",
        "from tensorflow.keras.preprocessing.text import Tokenizer\n",
        "from tensorflow.keras.preprocessing.sequence import pad_sequences"
      ],
      "execution_count": null,
      "outputs": []
    },
    {
      "cell_type": "code",
      "metadata": {
        "id": "AgB7I2D2t_m1"
      },
      "source": [
        "from tensorflow.keras.models import Sequential\n",
        "from tensorflow.keras.layers import Dense, Embedding"
      ],
      "execution_count": null,
      "outputs": []
    },
    {
      "cell_type": "code",
      "metadata": {
        "id": "Rwn5y3-kuCMU"
      },
      "source": [
        "vocab_size = 10000\n",
        "embedding_dim = 16\n",
        "max_length = 100\n",
        "trunc_type='post'\n",
        "padding_type='post'\n",
        "oov_tok = \"<OOV>\"\n",
        "training_size = 20000"
      ],
      "execution_count": null,
      "outputs": []
    },
    {
      "cell_type": "code",
      "metadata": {
        "id": "5vteOqMtuL42",
        "colab": {
          "base_uri": "https://localhost:8080/"
        },
        "outputId": "c864b17a-76d9-4034-ba28-e289fb060b6d"
      },
      "source": [
        "!wget --no-check-certificate \\\n",
        "    https://storage.googleapis.com/laurencemoroney-blog.appspot.com/sarcasm.json \\\n",
        "    -O /tmp/sarcasm.json\n"
      ],
      "execution_count": null,
      "outputs": [
        {
          "output_type": "stream",
          "text": [
            "--2021-05-30 13:25:40--  https://storage.googleapis.com/laurencemoroney-blog.appspot.com/sarcasm.json\n",
            "Resolving storage.googleapis.com (storage.googleapis.com)... 74.125.199.128, 74.125.20.128, 74.125.142.128, ...\n",
            "Connecting to storage.googleapis.com (storage.googleapis.com)|74.125.199.128|:443... connected.\n",
            "HTTP request sent, awaiting response... 200 OK\n",
            "Length: 5643545 (5.4M) [application/json]\n",
            "Saving to: ‘/tmp/sarcasm.json’\n",
            "\n",
            "\r/tmp/sarcasm.json     0%[                    ]       0  --.-KB/s               \r/tmp/sarcasm.json   100%[===================>]   5.38M  --.-KB/s    in 0.05s   \n",
            "\n",
            "2021-05-30 13:25:40 (107 MB/s) - ‘/tmp/sarcasm.json’ saved [5643545/5643545]\n",
            "\n"
          ],
          "name": "stdout"
        }
      ]
    },
    {
      "cell_type": "code",
      "metadata": {
        "id": "XK9VTs-kuOdS"
      },
      "source": [
        "with open(\"/tmp/sarcasm.json\", 'r') as f:\n",
        "    datastore = json.load(f)\n",
        "\n",
        "sentences = []\n",
        "labels = []\n",
        "\n",
        "for item in datastore:\n",
        "    sentences.append(item['headline'])\n",
        "    labels.append(item['is_sarcastic'])\n",
        "\n",
        "\n",
        "import numpy as np\n",
        "labels = np.array(labels)"
      ],
      "execution_count": null,
      "outputs": []
    },
    {
      "cell_type": "code",
      "metadata": {
        "id": "hI4Rr5F3uSbQ"
      },
      "source": [
        "# Chia features tập train\n",
        "training_sentences = sentences[0:training_size]\n",
        "# FIXME: Chia features tập test\n",
        "testing_sentences = sentences[training_size:]\n",
        "# FIXME: Chia labels tập train\n",
        "training_labels =  labels[0:training_size]\n",
        "# FIXME: Chia labels tập test\n",
        "testing_labels =  labels[training_size:]"
      ],
      "execution_count": null,
      "outputs": []
    },
    {
      "cell_type": "code",
      "metadata": {
        "colab": {
          "base_uri": "https://localhost:8080/"
        },
        "id": "tw2b0ZzAeVz8",
        "outputId": "d8cfd504-17e4-435f-bdf2-da569b40a75e"
      },
      "source": [
        "len (training_labels)"
      ],
      "execution_count": null,
      "outputs": [
        {
          "output_type": "execute_result",
          "data": {
            "text/plain": [
              "20000"
            ]
          },
          "metadata": {
            "tags": []
          },
          "execution_count": 8
        }
      ]
    },
    {
      "cell_type": "code",
      "metadata": {
        "colab": {
          "base_uri": "https://localhost:8080/"
        },
        "id": "mvbn3DLgeffj",
        "outputId": "26929cef-18d3-41fa-8f58-6b1abd4cb146"
      },
      "source": [
        "len (testing_labels)"
      ],
      "execution_count": null,
      "outputs": [
        {
          "output_type": "execute_result",
          "data": {
            "text/plain": [
              "6709"
            ]
          },
          "metadata": {
            "tags": []
          },
          "execution_count": 9
        }
      ]
    },
    {
      "cell_type": "code",
      "metadata": {
        "id": "8Co9a5ZYuVZ7"
      },
      "source": [
        "# FIXME: Tạo tokenizer\n",
        "tokenizer = Tokenizer(num_words=vocab_size,oov_token=oov_tok)\n",
        "\n",
        "# FIXME: Đưa từ vào tokenizer để tạo từ điển\n",
        "\n",
        "tokenizer.fit_on_texts(training_sentences)\n",
        "\n",
        "# FIXME: Biến các câu train thành sequences\n",
        "\n",
        "training_sequences = tokenizer.texts_to_sequences(training_sentences)\n",
        "\n",
        "# FIXME: Padding cho các train sequences\n",
        "\n",
        "training_padded = pad_sequences(training_sequences,maxlen=max_length,padding=padding_type,truncating=trunc_type)\n",
        "\n",
        "# FIXME: Biến các câu test thành sequences và padding tương ứng\n",
        "\n",
        "test_sequences = tokenizer.texts_to_sequences(testing_sentences)\n",
        "\n",
        "test_padded = pad_sequences(test_sequences,maxlen=max_length,padding=padding_type,truncating=trunc_type)"
      ],
      "execution_count": null,
      "outputs": []
    },
    {
      "cell_type": "code",
      "metadata": {
        "colab": {
          "base_uri": "https://localhost:8080/"
        },
        "id": "w81dByH9iVNa",
        "outputId": "d8f77f41-aa0a-4a79-bb9c-1564db028073"
      },
      "source": [
        "training_padded.shape"
      ],
      "execution_count": null,
      "outputs": [
        {
          "output_type": "execute_result",
          "data": {
            "text/plain": [
              "(20000, 100)"
            ]
          },
          "metadata": {
            "tags": []
          },
          "execution_count": 12
        }
      ]
    },
    {
      "cell_type": "code",
      "metadata": {
        "colab": {
          "base_uri": "https://localhost:8080/"
        },
        "id": "ewOyUb0viuV3",
        "outputId": "4450d964-c145-4617-8799-6a9b97031608"
      },
      "source": [
        "test_padded.shape"
      ],
      "execution_count": null,
      "outputs": [
        {
          "output_type": "execute_result",
          "data": {
            "text/plain": [
              "(6709, 38)"
            ]
          },
          "metadata": {
            "tags": []
          },
          "execution_count": 13
        }
      ]
    },
    {
      "cell_type": "code",
      "metadata": {
        "id": "b5mbNq9pnIeR"
      },
      "source": [
        "from tensorflow.keras.layers import GlobalAveragePooling1D"
      ],
      "execution_count": null,
      "outputs": []
    },
    {
      "cell_type": "code",
      "metadata": {
        "id": "1P7ZENxIudOK"
      },
      "source": [
        "# Xây dựng model\n",
        "\n",
        "# FIXME: Tạo model Sequential\n",
        "\n",
        "model = Sequential()\n",
        "\n",
        "# FIXME: Thêm một lớp Embedding\n",
        "\n",
        "model.add(Embedding(vocab_size,embedding_dim,input_length=max_length))\n",
        "\n",
        "model.add(GlobalAveragePooling1D())\n",
        "\n",
        "# FIXME: Thêm một lớp Dense, chú ý có activation\n",
        "\n",
        "model.add(Dense(24,activation='relu'))\n",
        "\n",
        "# FIXME: Thêm một lớp Dense cuối, chú ý có activation\n",
        "\n",
        "model.add(Dense(1,activation='sigmoid'))"
      ],
      "execution_count": null,
      "outputs": []
    },
    {
      "cell_type": "code",
      "metadata": {
        "colab": {
          "base_uri": "https://localhost:8080/"
        },
        "id": "KRSBvNUEkjS3",
        "outputId": "970080a2-cee6-43a1-e1ca-c7134bd01a23"
      },
      "source": [
        "model.summary()"
      ],
      "execution_count": null,
      "outputs": [
        {
          "output_type": "stream",
          "text": [
            "Model: \"sequential_2\"\n",
            "_________________________________________________________________\n",
            "Layer (type)                 Output Shape              Param #   \n",
            "=================================================================\n",
            "embedding_2 (Embedding)      (None, 100, 16)           160000    \n",
            "_________________________________________________________________\n",
            "global_average_pooling1d_1 ( (None, 16)                0         \n",
            "_________________________________________________________________\n",
            "dense_4 (Dense)              (None, 24)                408       \n",
            "_________________________________________________________________\n",
            "dense_5 (Dense)              (None, 1)                 25        \n",
            "=================================================================\n",
            "Total params: 160,433\n",
            "Trainable params: 160,433\n",
            "Non-trainable params: 0\n",
            "_________________________________________________________________\n"
          ],
          "name": "stdout"
        }
      ]
    },
    {
      "cell_type": "code",
      "metadata": {
        "id": "Aly-FMKcueFf"
      },
      "source": [
        "# FIXME: Compile Optimizer và Loss function\n",
        "\n",
        "model.compile(loss='binary_crossentropy',optimizer='adam',metrics='accuracy')"
      ],
      "execution_count": null,
      "outputs": []
    },
    {
      "cell_type": "code",
      "metadata": {
        "id": "nPlWd5muluv-"
      },
      "source": [
        "num_epochs=30"
      ],
      "execution_count": null,
      "outputs": []
    },
    {
      "cell_type": "code",
      "metadata": {
        "id": "2vk6NNChuhMZ",
        "colab": {
          "base_uri": "https://localhost:8080/"
        },
        "outputId": "5ee87c85-2372-487c-a7d6-778317ceabc2"
      },
      "source": [
        "# FIXME: Tiến hành training\n",
        "\n",
        "model.fit(training_padded,training_labels,epochs=num_epochs,validation_data=(test_padded,testing_labels))"
      ],
      "execution_count": null,
      "outputs": [
        {
          "output_type": "stream",
          "text": [
            "Epoch 1/30\n",
            "625/625 [==============================] - 3s 4ms/step - loss: 0.6682 - accuracy: 0.5818 - val_loss: 0.5964 - val_accuracy: 0.7626\n",
            "Epoch 2/30\n",
            "625/625 [==============================] - 3s 4ms/step - loss: 0.4401 - accuracy: 0.8259 - val_loss: 0.3867 - val_accuracy: 0.8384\n",
            "Epoch 3/30\n",
            "625/625 [==============================] - 3s 4ms/step - loss: 0.3126 - accuracy: 0.8755 - val_loss: 0.3566 - val_accuracy: 0.8484\n",
            "Epoch 4/30\n",
            "625/625 [==============================] - 3s 4ms/step - loss: 0.2608 - accuracy: 0.8959 - val_loss: 0.3417 - val_accuracy: 0.8572\n",
            "Epoch 5/30\n",
            "625/625 [==============================] - 3s 4ms/step - loss: 0.2238 - accuracy: 0.9129 - val_loss: 0.3528 - val_accuracy: 0.8529\n",
            "Epoch 6/30\n",
            "625/625 [==============================] - 3s 4ms/step - loss: 0.1962 - accuracy: 0.9242 - val_loss: 0.3589 - val_accuracy: 0.8502\n",
            "Epoch 7/30\n",
            "625/625 [==============================] - 3s 4ms/step - loss: 0.1744 - accuracy: 0.9351 - val_loss: 0.3667 - val_accuracy: 0.8538\n",
            "Epoch 8/30\n",
            "625/625 [==============================] - 3s 4ms/step - loss: 0.1569 - accuracy: 0.9425 - val_loss: 0.3776 - val_accuracy: 0.8530\n",
            "Epoch 9/30\n",
            "625/625 [==============================] - 3s 4ms/step - loss: 0.1389 - accuracy: 0.9485 - val_loss: 0.4085 - val_accuracy: 0.8489\n",
            "Epoch 10/30\n",
            "625/625 [==============================] - 3s 4ms/step - loss: 0.1265 - accuracy: 0.9542 - val_loss: 0.4194 - val_accuracy: 0.8496\n",
            "Epoch 11/30\n",
            "625/625 [==============================] - 3s 4ms/step - loss: 0.1126 - accuracy: 0.9608 - val_loss: 0.4405 - val_accuracy: 0.8484\n",
            "Epoch 12/30\n",
            "625/625 [==============================] - 3s 4ms/step - loss: 0.1062 - accuracy: 0.9630 - val_loss: 0.4636 - val_accuracy: 0.8454\n",
            "Epoch 13/30\n",
            "625/625 [==============================] - 3s 4ms/step - loss: 0.0933 - accuracy: 0.9683 - val_loss: 0.4924 - val_accuracy: 0.8427\n",
            "Epoch 14/30\n",
            "625/625 [==============================] - 3s 4ms/step - loss: 0.0861 - accuracy: 0.9705 - val_loss: 0.5391 - val_accuracy: 0.8369\n",
            "Epoch 15/30\n",
            "625/625 [==============================] - 3s 4ms/step - loss: 0.0778 - accuracy: 0.9742 - val_loss: 0.5522 - val_accuracy: 0.8374\n",
            "Epoch 16/30\n",
            "625/625 [==============================] - 2s 4ms/step - loss: 0.0723 - accuracy: 0.9751 - val_loss: 0.6216 - val_accuracy: 0.8265\n",
            "Epoch 17/30\n",
            "625/625 [==============================] - 3s 4ms/step - loss: 0.0655 - accuracy: 0.9798 - val_loss: 0.6163 - val_accuracy: 0.8343\n",
            "Epoch 18/30\n",
            "625/625 [==============================] - 3s 4ms/step - loss: 0.0591 - accuracy: 0.9823 - val_loss: 0.6538 - val_accuracy: 0.8311\n",
            "Epoch 19/30\n",
            "625/625 [==============================] - 3s 4ms/step - loss: 0.0557 - accuracy: 0.9822 - val_loss: 0.6822 - val_accuracy: 0.8286\n",
            "Epoch 20/30\n",
            "625/625 [==============================] - 3s 4ms/step - loss: 0.0505 - accuracy: 0.9833 - val_loss: 0.7162 - val_accuracy: 0.8264\n",
            "Epoch 21/30\n",
            "625/625 [==============================] - 3s 4ms/step - loss: 0.0461 - accuracy: 0.9862 - val_loss: 0.7536 - val_accuracy: 0.8272\n",
            "Epoch 22/30\n",
            "625/625 [==============================] - 3s 4ms/step - loss: 0.0414 - accuracy: 0.9879 - val_loss: 0.7870 - val_accuracy: 0.8249\n",
            "Epoch 23/30\n",
            "625/625 [==============================] - 3s 4ms/step - loss: 0.0387 - accuracy: 0.9885 - val_loss: 0.8606 - val_accuracy: 0.8183\n",
            "Epoch 24/30\n",
            "625/625 [==============================] - 3s 4ms/step - loss: 0.0359 - accuracy: 0.9890 - val_loss: 0.8563 - val_accuracy: 0.8188\n",
            "Epoch 25/30\n",
            "625/625 [==============================] - 3s 4ms/step - loss: 0.0332 - accuracy: 0.9906 - val_loss: 0.8873 - val_accuracy: 0.8185\n",
            "Epoch 26/30\n",
            "625/625 [==============================] - 2s 4ms/step - loss: 0.0312 - accuracy: 0.9909 - val_loss: 0.9305 - val_accuracy: 0.8161\n",
            "Epoch 27/30\n",
            "625/625 [==============================] - 3s 4ms/step - loss: 0.0287 - accuracy: 0.9911 - val_loss: 0.9820 - val_accuracy: 0.8146\n",
            "Epoch 28/30\n",
            "625/625 [==============================] - 3s 4ms/step - loss: 0.0254 - accuracy: 0.9930 - val_loss: 1.0211 - val_accuracy: 0.8156\n",
            "Epoch 29/30\n",
            "625/625 [==============================] - 3s 4ms/step - loss: 0.0232 - accuracy: 0.9938 - val_loss: 1.0543 - val_accuracy: 0.8122\n",
            "Epoch 30/30\n",
            "625/625 [==============================] - 3s 4ms/step - loss: 0.0242 - accuracy: 0.9931 - val_loss: 1.0903 - val_accuracy: 0.8114\n"
          ],
          "name": "stdout"
        },
        {
          "output_type": "execute_result",
          "data": {
            "text/plain": [
              "<tensorflow.python.keras.callbacks.History at 0x7f5e558e0910>"
            ]
          },
          "metadata": {
            "tags": []
          },
          "execution_count": 30
        }
      ]
    },
    {
      "cell_type": "code",
      "metadata": {
        "id": "EyeouS8gujfP"
      },
      "source": [
        "# FIXME: Tiến hành dự đoán"
      ],
      "execution_count": null,
      "outputs": []
    },
    {
      "cell_type": "code",
      "metadata": {
        "id": "79M7JedUuloY",
        "colab": {
          "base_uri": "https://localhost:8080/"
        },
        "outputId": "c9b870b5-e52e-463b-e366-b022c6392c1d"
      },
      "source": [
        "test_sen = [\"Everyone seems normal until you get to know them.\"]\n",
        "\n",
        "# FIXME: Chuyển câu thành Sequences\n",
        "test_sen_sequences=tokenizer.texts_to_sequences(test_sen)\n",
        "\n",
        "# FIXME: padding cho câu này\n",
        "padded_test_sen_sequences=pad_sequences(test_sen_sequences,maxlen=max_length,padding=padding_type,truncating=trunc_type)\n",
        "# FIXME: Tiến hành dự đoán\n",
        "\n",
        "model.predict(padded_test_sen_sequences)"
      ],
      "execution_count": null,
      "outputs": [
        {
          "output_type": "execute_result",
          "data": {
            "text/plain": [
              "array([[0.9998473]], dtype=float32)"
            ]
          },
          "metadata": {
            "tags": []
          },
          "execution_count": 32
        }
      ]
    }
  ]
}