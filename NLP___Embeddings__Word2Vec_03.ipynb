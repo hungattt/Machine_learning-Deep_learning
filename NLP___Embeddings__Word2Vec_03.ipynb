{
  "nbformat": 4,
  "nbformat_minor": 0,
  "metadata": {
    "colab": {
      "provenance": []
    },
    "kernelspec": {
      "name": "python3",
      "display_name": "Python 3"
    },
    "language_info": {
      "name": "python"
    }
  },
  "cells": [
    {
      "cell_type": "code",
      "metadata": {
        "id": "RgYmTy3Avpt2",
        "colab": {
          "base_uri": "https://localhost:8080/"
        },
        "outputId": "ce8058b2-e6ec-4971-dae5-101db9bd34cb"
      },
      "source": [
        "import csv\n",
        "import tensorflow as tf\n",
        "import numpy as np\n",
        "from tensorflow.keras.preprocessing.text import Tokenizer\n",
        "from tensorflow.keras.preprocessing.sequence import pad_sequences\n",
        "\n",
        "!wget --no-check-certificate \\\n",
        "    https://storage.googleapis.com/protonx-cloud-storage/bbc-text.csv \\\n",
        "    -O /tmp/bbc-text.csv"
      ],
      "execution_count": null,
      "outputs": [
        {
          "output_type": "stream",
          "text": [
            "--2021-05-30 16:11:00--  https://storage.googleapis.com/protonx-cloud-storage/bbc-text.csv\n",
            "Resolving storage.googleapis.com (storage.googleapis.com)... 142.250.141.128, 2607:f8b0:4023:c0b::80\n",
            "Connecting to storage.googleapis.com (storage.googleapis.com)|142.250.141.128|:443... connected.\n",
            "HTTP request sent, awaiting response... 200 OK\n",
            "Length: 5057493 (4.8M) [application/octet-stream]\n",
            "Saving to: ‘/tmp/bbc-text.csv’\n",
            "\n",
            "/tmp/bbc-text.csv   100%[===================>]   4.82M  --.-KB/s    in 0.06s   \n",
            "\n",
            "2021-05-30 16:11:00 (85.3 MB/s) - ‘/tmp/bbc-text.csv’ saved [5057493/5057493]\n",
            "\n"
          ],
          "name": "stdout"
        }
      ]
    },
    {
      "cell_type": "code",
      "metadata": {
        "id": "DHwwmDCDv9Sx"
      },
      "source": [
        "vocab_size = 1000\n",
        "embedding_dim = 16\n",
        "max_length = 120\n",
        "trunc_type ='post'\n",
        "padding_type = 'post'\n",
        "oov_tok = \"<OOV>\"\n",
        "training_portion = .8"
      ],
      "execution_count": null,
      "outputs": []
    },
    {
      "cell_type": "code",
      "metadata": {
        "id": "f4cmgMbUwE6n",
        "colab": {
          "base_uri": "https://localhost:8080/"
        },
        "outputId": "e6efd2e4-b711-41c2-c0d8-4dc9c457673e"
      },
      "source": [
        "sentences = []\n",
        "labels = []\n",
        "stopwords = [ \"a\", \"about\", \"above\", \"after\", \"again\", \"against\", \"all\", \"am\", \"an\", \"and\", \"any\", \"are\", \"as\", \"at\", \"be\", \"because\", \"been\", \"before\", \"being\", \"below\", \"between\", \"both\", \"but\", \"by\", \"could\", \"did\", \"do\", \"does\", \"doing\", \"down\", \"during\", \"each\", \"few\", \"for\", \"from\", \"further\", \"had\", \"has\", \"have\", \"having\", \"he\", \"he'd\", \"he'll\", \"he's\", \"her\", \"here\", \"here's\", \"hers\", \"herself\", \"him\", \"himself\", \"his\", \"how\", \"how's\", \"i\", \"i'd\", \"i'll\", \"i'm\", \"i've\", \"if\", \"in\", \"into\", \"is\", \"it\", \"it's\", \"its\", \"itself\", \"let's\", \"me\", \"more\", \"most\", \"my\", \"myself\", \"nor\", \"of\", \"on\", \"once\", \"only\", \"or\", \"other\", \"ought\", \"our\", \"ours\", \"ourselves\", \"out\", \"over\", \"own\", \"same\", \"she\", \"she'd\", \"she'll\", \"she's\", \"should\", \"so\", \"some\", \"such\", \"than\", \"that\", \"that's\", \"the\", \"their\", \"theirs\", \"them\", \"themselves\", \"then\", \"there\", \"there's\", \"these\", \"they\", \"they'd\", \"they'll\", \"they're\", \"they've\", \"this\", \"those\", \"through\", \"to\", \"too\", \"under\", \"until\", \"up\", \"very\", \"was\", \"we\", \"we'd\", \"we'll\", \"we're\", \"we've\", \"were\", \"what\", \"what's\", \"when\", \"when's\", \"where\", \"where's\", \"which\", \"while\", \"who\", \"who's\", \"whom\", \"why\", \"why's\", \"with\", \"would\", \"you\", \"you'd\", \"you'll\", \"you're\", \"you've\", \"your\", \"yours\", \"yourself\", \"yourselves\" ]\n",
        "print(len(stopwords))\n",
        "# Expected Output\n",
        "# 153"
      ],
      "execution_count": null,
      "outputs": [
        {
          "output_type": "stream",
          "text": [
            "153\n"
          ],
          "name": "stdout"
        }
      ]
    },
    {
      "cell_type": "code",
      "metadata": {
        "id": "7DdWK_kuwH5A",
        "colab": {
          "base_uri": "https://localhost:8080/"
        },
        "outputId": "5cbc197c-84ec-410f-8162-2c821b7bad83"
      },
      "source": [
        "with open(\"/tmp/bbc-text.csv\", 'r') as csvfile:\n",
        "    reader = csv.reader(csvfile, delimiter=',')\n",
        "    next(reader)\n",
        "    for row in reader:\n",
        "        labels.append(row[0])\n",
        "        sentence = row[1]\n",
        "        for word in stopwords:\n",
        "            token = \" \" + word + \" \"\n",
        "            sentence = sentence.replace(token, \" \")\n",
        "        sentences.append(sentence)\n",
        "\n",
        "print(len(labels))\n",
        "print(len(sentences))\n",
        "print(sentences[0])\n",
        "# Expected Output\n",
        "# 2225\n",
        "# 2225\n",
        "# tv future hands viewers home theatre systems  plasma high-definition tvs  digital video recorders moving living room  way people watch tv will radically different five years  time.  according expert panel gathered annual consumer electronics show las vegas discuss new technologies will impact one favourite pastimes. us leading trend  programmes content will delivered viewers via home networks  cable  satellite  telecoms companies  broadband service providers front rooms portable devices.  one talked-about technologies ces digital personal video recorders (dvr pvr). set-top boxes  like us s tivo uk s sky+ system  allow people record  store  play  pause forward wind tv programmes want.  essentially  technology allows much personalised tv. also built-in high-definition tv sets  big business japan us  slower take off europe lack high-definition programming. not can people forward wind adverts  can also forget abiding network channel schedules  putting together a-la-carte entertainment. us networks cable satellite companies worried means terms advertising revenues well  brand identity  viewer loyalty channels. although us leads technology moment  also concern raised europe  particularly growing uptake services like sky+.  happens today  will see nine months years  time uk   adam hume  bbc broadcast s futurologist told bbc news website. likes bbc  no issues lost advertising revenue yet. pressing issue moment commercial uk broadcasters  brand loyalty important everyone.  will talking content brands rather network brands   said tim hanlon  brand communications firm starcom mediavest.  reality broadband connections  anybody can producer content.  added:  challenge now hard promote programme much choice.   means  said stacey jolna  senior vice president tv guide tv group  way people find content want watch simplified tv viewers. means networks  us terms  channels take leaf google s book search engine future  instead scheduler help people find want watch. kind channel model might work younger ipod generation used taking control gadgets play them. might not suit everyone  panel recognised. older generations comfortable familiar schedules channel brands know getting. perhaps not want much choice put hands  mr hanlon suggested.  end  kids just diapers pushing buttons already - everything possible available   said mr hanlon.  ultimately  consumer will tell market want.   50 000 new gadgets technologies showcased ces  many enhancing tv-watching experience. high-definition tv sets everywhere many new models lcd (liquid crystal display) tvs launched dvr capability built  instead external boxes. one example launched show humax s 26-inch lcd tv 80-hour tivo dvr dvd recorder. one us s biggest satellite tv companies  directtv  even launched branded dvr show 100-hours recording capability  instant replay  search function. set can pause rewind tv 90 hours. microsoft chief bill gates announced pre-show keynote speech partnership tivo  called tivotogo  means people can play recorded programmes windows pcs mobile devices. reflect increasing trend freeing multimedia people can watch want  want."
      ],
      "execution_count": null,
      "outputs": [
        {
          "output_type": "stream",
          "text": [
            "2225\n",
            "2225\n",
            "tv future hands viewers home theatre systems  plasma high-definition tvs  digital video recorders moving living room  way people watch tv will radically different five years  time.  according expert panel gathered annual consumer electronics show las vegas discuss new technologies will impact one favourite pastimes. us leading trend  programmes content will delivered viewers via home networks  cable  satellite  telecoms companies  broadband service providers front rooms portable devices.  one talked-about technologies ces digital personal video recorders (dvr pvr). set-top boxes  like us s tivo uk s sky+ system  allow people record  store  play  pause forward wind tv programmes want.  essentially  technology allows much personalised tv. also built-in high-definition tv sets  big business japan us  slower take off europe lack high-definition programming. not can people forward wind adverts  can also forget abiding network channel schedules  putting together a-la-carte entertainment. us networks cable satellite companies worried means terms advertising revenues well  brand identity  viewer loyalty channels. although us leads technology moment  also concern raised europe  particularly growing uptake services like sky+.  happens today  will see nine months years  time uk   adam hume  bbc broadcast s futurologist told bbc news website. likes bbc  no issues lost advertising revenue yet. pressing issue moment commercial uk broadcasters  brand loyalty important everyone.  will talking content brands rather network brands   said tim hanlon  brand communications firm starcom mediavest.  reality broadband connections  anybody can producer content.  added:  challenge now hard promote programme much choice.   means  said stacey jolna  senior vice president tv guide tv group  way people find content want watch simplified tv viewers. means networks  us terms  channels take leaf google s book search engine future  instead scheduler help people find want watch. kind channel model might work younger ipod generation used taking control gadgets play them. might not suit everyone  panel recognised. older generations comfortable familiar schedules channel brands know getting. perhaps not want much choice put hands  mr hanlon suggested.  end  kids just diapers pushing buttons already - everything possible available   said mr hanlon.  ultimately  consumer will tell market want.   50 000 new gadgets technologies showcased ces  many enhancing tv-watching experience. high-definition tv sets everywhere many new models lcd (liquid crystal display) tvs launched dvr capability built  instead external boxes. one example launched show humax s 26-inch lcd tv 80-hour tivo dvr dvd recorder. one us s biggest satellite tv companies  directtv  even launched branded dvr show 100-hours recording capability  instant replay  search function. set can pause rewind tv 90 hours. microsoft chief bill gates announced pre-show keynote speech partnership tivo  called tivotogo  means people can play recorded programmes windows pcs mobile devices. reflect increasing trend freeing multimedia people can watch want  want.\n"
          ],
          "name": "stdout"
        }
      ]
    },
    {
      "cell_type": "code",
      "metadata": {
        "id": "PDxNS3jtwPVv",
        "colab": {
          "base_uri": "https://localhost:8080/"
        },
        "outputId": "a0c155d4-b820-433f-f790-8a8032af0e56"
      },
      "source": [
        "train_size =int(len (sentences) * training_portion)\n",
        "\n",
        "train_sentences = sentences[:train_size ]\n",
        "train_labels = labels[:train_size ]\n",
        "\n",
        "validation_sentences = sentences[train_size: ]\n",
        "validation_labels = labels[train_size: ]\n",
        "\n",
        "print(train_size)\n",
        "print(len(train_sentences))\n",
        "print(len(train_labels))\n",
        "print(len(validation_sentences))\n",
        "print(len(validation_labels))\n",
        "\n",
        "# Expected output (if training_portion=.8)\n",
        "# 1780\n",
        "# 1780\n",
        "# 1780\n",
        "# 445\n",
        "# 445"
      ],
      "execution_count": null,
      "outputs": [
        {
          "output_type": "stream",
          "text": [
            "1780\n",
            "1780\n",
            "1780\n",
            "445\n",
            "445\n"
          ],
          "name": "stdout"
        }
      ]
    },
    {
      "cell_type": "code",
      "metadata": {
        "id": "as6_8XnuwUBD",
        "colab": {
          "base_uri": "https://localhost:8080/"
        },
        "outputId": "d0090753-ccdd-4690-ef27-c3af957cd379"
      },
      "source": [
        "tokenizer = Tokenizer(num_words=vocab_size,oov_token=oov_tok)\n",
        "tokenizer.fit_on_texts(train_sentences)\n",
        "word_index = tokenizer.word_index\n",
        "\n",
        "train_sequences = tokenizer.texts_to_sequences(train_sentences)\n",
        "train_padded = pad_sequences(train_sequences,padding=padding_type,truncating=trunc_type,maxlen=max_length)\n",
        "\n",
        "print(len(train_sequences[0]))\n",
        "print(len(train_padded[0]))\n",
        "\n",
        "print(len(train_sequences[1]))\n",
        "print(len(train_padded[1]))\n",
        "\n",
        "print(len(train_sequences[10]))\n",
        "print(len(train_padded[10]))\n",
        "\n",
        "# Expected Ouput\n",
        "# 449\n",
        "# 120\n",
        "# 200\n",
        "# 120\n",
        "# 192\n",
        "# 120"
      ],
      "execution_count": null,
      "outputs": [
        {
          "output_type": "stream",
          "text": [
            "449\n",
            "120\n",
            "200\n",
            "120\n",
            "192\n",
            "120\n"
          ],
          "name": "stdout"
        }
      ]
    },
    {
      "cell_type": "code",
      "metadata": {
        "id": "bLNAZ3rxwX3C",
        "colab": {
          "base_uri": "https://localhost:8080/"
        },
        "outputId": "dbf322bf-011c-4188-abc6-f17c494a4a5c"
      },
      "source": [
        "validation_sequences =  tokenizer.texts_to_sequences(validation_sentences)\n",
        "validation_padded =  pad_sequences(validation_sequences,padding=padding_type,truncating=trunc_type,maxlen=max_length)\n",
        "print(len(validation_sequences))\n",
        "print(validation_padded.shape)\n",
        "\n",
        "# Expected output\n",
        "# 445\n",
        "# (445, 120)"
      ],
      "execution_count": null,
      "outputs": [
        {
          "output_type": "stream",
          "text": [
            "445\n",
            "(445, 120)\n"
          ],
          "name": "stdout"
        }
      ]
    },
    {
      "cell_type": "code",
      "metadata": {
        "id": "omOaEs19wbEn",
        "colab": {
          "base_uri": "https://localhost:8080/"
        },
        "outputId": "09afd1d9-3d19-45ab-a281-898967c8fe20"
      },
      "source": [
        "label_tokenizer =  Tokenizer()\n",
        "label_tokenizer.fit_on_texts(labels)\n",
        "\n",
        "training_label_seq =  np.array(label_tokenizer.texts_to_sequences(train_labels))\n",
        "validation_label_seq =  np.array(label_tokenizer.texts_to_sequences(validation_labels))\n",
        "\n",
        "print(training_label_seq[0])\n",
        "print(training_label_seq[1])\n",
        "print(training_label_seq[2])\n",
        "print(training_label_seq.shape)\n",
        "\n",
        "print(validation_label_seq[0])\n",
        "print(validation_label_seq[1])\n",
        "print(validation_label_seq[2])\n",
        "print(validation_label_seq.shape)\n",
        "\n",
        "# Expected output\n",
        "# [4]\n",
        "# [2]\n",
        "# [1]\n",
        "# (1780, 1)\n",
        "# [5]\n",
        "# [4]\n",
        "# [3]\n",
        "# (445, 1)"
      ],
      "execution_count": null,
      "outputs": [
        {
          "output_type": "stream",
          "text": [
            "[4]\n",
            "[2]\n",
            "[1]\n",
            "(1780, 1)\n",
            "[5]\n",
            "[4]\n",
            "[3]\n",
            "(445, 1)\n"
          ],
          "name": "stdout"
        }
      ]
    },
    {
      "cell_type": "code",
      "metadata": {
        "colab": {
          "base_uri": "https://localhost:8080/"
        },
        "id": "sO78kFdrO4CF",
        "outputId": "27ad1933-c62c-4cce-eb58-2ce4158bc612"
      },
      "source": [
        "label_tokenizer.word_index"
      ],
      "execution_count": null,
      "outputs": [
        {
          "output_type": "execute_result",
          "data": {
            "text/plain": [
              "{'business': 2, 'entertainment': 5, 'politics': 3, 'sport': 1, 'tech': 4}"
            ]
          },
          "metadata": {
            "tags": []
          },
          "execution_count": 11
        }
      ]
    },
    {
      "cell_type": "code",
      "metadata": {
        "id": "p61WtpUAwfVW",
        "colab": {
          "base_uri": "https://localhost:8080/"
        },
        "outputId": "f1191bb2-9106-4d09-b320-9c387366273e"
      },
      "source": [
        "model = tf.keras.Sequential([\n",
        "# FIXME\n",
        "  tf.keras.layers.Embedding(vocab_size,embedding_dim,input_length=max_length),\n",
        "  tf.keras.layers.GlobalAveragePooling1D(),\n",
        "  tf.keras.layers.Dense(24,activation='relu'),\n",
        "  tf.keras.layers.Dense(6,activation='softmax'),\n",
        "])\n",
        "model.compile(loss='sparse_categorical_crossentropy',optimizer='adam',metrics=['accuracy'])\n",
        "model.summary()\n",
        "\n",
        "# Expected Output\n",
        "# Layer (type)                 Output Shape              Param #\n",
        "# =================================================================\n",
        "# embedding (Embedding)        (None, 120, 16)           16000\n",
        "# _________________________________________________________________\n",
        "# global_average_pooling1d (Gl (None, 16)                0\n",
        "# _________________________________________________________________\n",
        "# dense (Dense)                (None, 24)                408\n",
        "# _________________________________________________________________\n",
        "# dense_1 (Dense)              (None, 6)                 150\n",
        "# =================================================================\n",
        "# Total params: 16,558\n",
        "# Trainable params: 16,558\n",
        "# Non-trainable params: 0"
      ],
      "execution_count": null,
      "outputs": [
        {
          "output_type": "stream",
          "text": [
            "Model: \"sequential\"\n",
            "_________________________________________________________________\n",
            "Layer (type)                 Output Shape              Param #   \n",
            "=================================================================\n",
            "embedding (Embedding)        (None, 120, 16)           16000     \n",
            "_________________________________________________________________\n",
            "global_average_pooling1d (Gl (None, 16)                0         \n",
            "_________________________________________________________________\n",
            "dense (Dense)                (None, 24)                408       \n",
            "_________________________________________________________________\n",
            "dense_1 (Dense)              (None, 6)                 150       \n",
            "=================================================================\n",
            "Total params: 16,558\n",
            "Trainable params: 16,558\n",
            "Non-trainable params: 0\n",
            "_________________________________________________________________\n"
          ],
          "name": "stdout"
        }
      ]
    },
    {
      "cell_type": "code",
      "metadata": {
        "id": "eCo2kWeowjIs",
        "colab": {
          "base_uri": "https://localhost:8080/"
        },
        "outputId": "74a1e3ae-53e5-4f8b-b8f4-b22254b564aa"
      },
      "source": [
        "num_epochs = 30\n",
        "history = model.fit(train_padded,training_label_seq,epochs=num_epochs,validation_data=(validation_padded,validation_label_seq),verbose=1)"
      ],
      "execution_count": null,
      "outputs": [
        {
          "output_type": "stream",
          "text": [
            "Epoch 1/30\n",
            "56/56 [==============================] - 1s 5ms/step - loss: 1.7625 - accuracy: 0.2281 - val_loss: 1.7281 - val_accuracy: 0.2270\n",
            "Epoch 2/30\n",
            "56/56 [==============================] - 0s 2ms/step - loss: 1.6817 - accuracy: 0.2601 - val_loss: 1.6266 - val_accuracy: 0.2629\n",
            "Epoch 3/30\n",
            "56/56 [==============================] - 0s 2ms/step - loss: 1.5631 - accuracy: 0.3680 - val_loss: 1.4958 - val_accuracy: 0.5640\n",
            "Epoch 4/30\n",
            "56/56 [==============================] - 0s 2ms/step - loss: 1.4079 - accuracy: 0.7185 - val_loss: 1.3234 - val_accuracy: 0.8562\n",
            "Epoch 5/30\n",
            "56/56 [==============================] - 0s 2ms/step - loss: 1.2051 - accuracy: 0.8764 - val_loss: 1.1177 - val_accuracy: 0.8876\n",
            "Epoch 6/30\n",
            "56/56 [==============================] - 0s 2ms/step - loss: 0.9776 - accuracy: 0.9208 - val_loss: 0.9094 - val_accuracy: 0.9011\n",
            "Epoch 7/30\n",
            "56/56 [==============================] - 0s 2ms/step - loss: 0.7643 - accuracy: 0.9287 - val_loss: 0.7245 - val_accuracy: 0.9034\n",
            "Epoch 8/30\n",
            "56/56 [==============================] - 0s 2ms/step - loss: 0.5901 - accuracy: 0.9360 - val_loss: 0.5824 - val_accuracy: 0.9146\n",
            "Epoch 9/30\n",
            "56/56 [==============================] - 0s 3ms/step - loss: 0.4604 - accuracy: 0.9427 - val_loss: 0.4838 - val_accuracy: 0.9146\n",
            "Epoch 10/30\n",
            "56/56 [==============================] - 0s 2ms/step - loss: 0.3694 - accuracy: 0.9517 - val_loss: 0.4148 - val_accuracy: 0.9213\n",
            "Epoch 11/30\n",
            "56/56 [==============================] - 0s 2ms/step - loss: 0.3038 - accuracy: 0.9584 - val_loss: 0.3664 - val_accuracy: 0.9236\n",
            "Epoch 12/30\n",
            "56/56 [==============================] - 0s 2ms/step - loss: 0.2578 - accuracy: 0.9635 - val_loss: 0.3299 - val_accuracy: 0.9258\n",
            "Epoch 13/30\n",
            "56/56 [==============================] - 0s 2ms/step - loss: 0.2212 - accuracy: 0.9646 - val_loss: 0.3017 - val_accuracy: 0.9326\n",
            "Epoch 14/30\n",
            "56/56 [==============================] - 0s 2ms/step - loss: 0.1929 - accuracy: 0.9691 - val_loss: 0.2820 - val_accuracy: 0.9326\n",
            "Epoch 15/30\n",
            "56/56 [==============================] - 0s 2ms/step - loss: 0.1700 - accuracy: 0.9736 - val_loss: 0.2665 - val_accuracy: 0.9326\n",
            "Epoch 16/30\n",
            "56/56 [==============================] - 0s 2ms/step - loss: 0.1513 - accuracy: 0.9747 - val_loss: 0.2550 - val_accuracy: 0.9348\n",
            "Epoch 17/30\n",
            "56/56 [==============================] - 0s 2ms/step - loss: 0.1347 - accuracy: 0.9787 - val_loss: 0.2410 - val_accuracy: 0.9326\n",
            "Epoch 18/30\n",
            "56/56 [==============================] - 0s 2ms/step - loss: 0.1222 - accuracy: 0.9798 - val_loss: 0.2364 - val_accuracy: 0.9303\n",
            "Epoch 19/30\n",
            "56/56 [==============================] - 0s 2ms/step - loss: 0.1093 - accuracy: 0.9831 - val_loss: 0.2324 - val_accuracy: 0.9371\n",
            "Epoch 20/30\n",
            "56/56 [==============================] - 0s 3ms/step - loss: 0.0988 - accuracy: 0.9837 - val_loss: 0.2262 - val_accuracy: 0.9371\n",
            "Epoch 21/30\n",
            "56/56 [==============================] - 0s 2ms/step - loss: 0.0892 - accuracy: 0.9871 - val_loss: 0.2250 - val_accuracy: 0.9348\n",
            "Epoch 22/30\n",
            "56/56 [==============================] - 0s 2ms/step - loss: 0.0805 - accuracy: 0.9876 - val_loss: 0.2174 - val_accuracy: 0.9371\n",
            "Epoch 23/30\n",
            "56/56 [==============================] - 0s 2ms/step - loss: 0.0730 - accuracy: 0.9916 - val_loss: 0.2094 - val_accuracy: 0.9416\n",
            "Epoch 24/30\n",
            "56/56 [==============================] - 0s 2ms/step - loss: 0.0657 - accuracy: 0.9927 - val_loss: 0.2084 - val_accuracy: 0.9393\n",
            "Epoch 25/30\n",
            "56/56 [==============================] - 0s 2ms/step - loss: 0.0602 - accuracy: 0.9938 - val_loss: 0.2080 - val_accuracy: 0.9393\n",
            "Epoch 26/30\n",
            "56/56 [==============================] - 0s 2ms/step - loss: 0.0542 - accuracy: 0.9955 - val_loss: 0.2077 - val_accuracy: 0.9416\n",
            "Epoch 27/30\n",
            "56/56 [==============================] - 0s 3ms/step - loss: 0.0492 - accuracy: 0.9966 - val_loss: 0.2024 - val_accuracy: 0.9416\n",
            "Epoch 28/30\n",
            "56/56 [==============================] - 0s 2ms/step - loss: 0.0452 - accuracy: 0.9966 - val_loss: 0.2029 - val_accuracy: 0.9438\n",
            "Epoch 29/30\n",
            "56/56 [==============================] - 0s 2ms/step - loss: 0.0411 - accuracy: 0.9966 - val_loss: 0.2089 - val_accuracy: 0.9371\n",
            "Epoch 30/30\n",
            "56/56 [==============================] - 0s 2ms/step - loss: 0.0377 - accuracy: 0.9972 - val_loss: 0.2029 - val_accuracy: 0.9393\n"
          ],
          "name": "stdout"
        }
      ]
    }
  ]
}